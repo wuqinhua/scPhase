{
 "cells": [
  {
   "cell_type": "code",
   "execution_count": null,
   "id": "c9fac1cd",
   "metadata": {
    "vscode": {
     "languageId": "r"
    }
   },
   "outputs": [],
   "source": [
    "library(tidyverse)\n",
    "library(ggplot2)\n",
    "library(ggthemes)\n",
    "library(patchwork)\n",
    "library(ggsci)\n",
    "library(ggvenn)\n",
    "library(ComplexHeatmap)\n",
    "library(RColorBrewer)\n",
    "library(ggbeeswarm)\n",
    "library(tidyr)\n",
    "library(circlize)\n",
    "library(fastcluster)\n",
    "library(ggrepel)"
   ]
  },
  {
   "cell_type": "code",
   "execution_count": null,
   "id": "007ed702",
   "metadata": {
    "vscode": {
     "languageId": "r"
    }
   },
   "outputs": [],
   "source": [
    "setwd(\"/home/wuqinhua/Project/PHASE_1r/AttnMoE_test/result/Lung\")"
   ]
  },
  {
   "cell_type": "markdown",
   "id": "ac011ace",
   "metadata": {},
   "source": [
    "## 1. Attribution score top20 gene"
   ]
  },
  {
   "cell_type": "code",
   "execution_count": null,
   "id": "34b52e26",
   "metadata": {
    "vscode": {
     "languageId": "r"
    }
   },
   "outputs": [],
   "source": [
    "attrdf_1 = read.table('./ensemble_gene_attributions_normal.csv', header = TRUE,  sep = ',',  stringsAsFactors = FALSE)\n",
    "attrdf_1 <- attrdf_1[order(attrdf_1$mean_attribution, decreasing = TRUE),]\n",
    "top20_1 <- attrdf_1[1:20, ] # nolint\n",
    "colors <- colorRampPalette(c(\"#B3EE3A\",\"#006400\"))(20)#\n",
    "p1 = ggplot(top20_1, mapping = aes(x = reorder(gene,mean_attribution), y = mean_attribution)) +\n",
    "  geom_bar(stat = 'identity',fill=colors,width=0.78,position =position_dodge(0.7)) + # nolint\n",
    "  labs(x= \" \",y=\"Normal Attribution Score\", fill = \"gene\",size=8,family = \"sans\", face = \"bold.italic\") +\n",
    "  coord_flip()+ # nolint\n",
    "  geom_text(aes(label = sprintf(\"%.3f\",mean_attribution)),size =3,hjust = ifelse(top20_1$mean_attribution < 0,0,1))+\n",
    "  scale_fill_manual(name = \"Gene\",values = colors) +\n",
    "  theme_classic() +\n",
    "  theme(axis.text = element_text(family = \"sans\",size = 10, face = \"bold.italic\"))\n",
    "#ggsave('./plot/top20_H.png',p1,width =6,height=8)\n",
    "\n",
    "attrdf_2 = read.table('./ensemble_gene_attributions_lung_adenocarcinoma.csv', header = TRUE,  sep = ',',  stringsAsFactors = FALSE)\n",
    "attrdf_2 <- attrdf_2[order(attrdf_2$mean_attribution, decreasing = TRUE),]\n",
    "top20_2 <- attrdf_2[1:20, ]\n",
    "colors <- colorRampPalette(c(\"#87CEFA\",\"#1C86EE\"))(20)#\n",
    "p2 <- ggplot(top20_2, mapping = aes(x = reorder(gene,mean_attribution), y = mean_attribution)) +\n",
    "  geom_bar(stat = 'identity',fill=colors,width=0.78,position =position_dodge(0.7)) +\n",
    "  labs(x= \" \",y=\"LUAD Attribution Score\", fill = \"gene\",size=8,family = \"sans\", face = \"bold.italic\") +\n",
    "  coord_flip()+\n",
    "  geom_text(aes(label = sprintf(\"%.3f\",mean_attribution)),size =3,hjust = ifelse(top20_2$mean_attribution < 0,0,1))+\n",
    "  scale_fill_manual(name = \"Gene\",values = colors) +\n",
    "  theme_classic() +\n",
    "  theme(axis.text = element_text(family = \"sans\",size = 10, face = \"bold.italic\")) # nolint: line_length_linter.\n",
    "#ggsave('./plot/top20_M.png',p2,width =6,height=8)\n",
    "\n",
    "attrdf_3 = read.table('./ensemble_gene_attributions_squamous_cell_lung_carcinoma.csv', header = TRUE,  sep = ',',  stringsAsFactors = FALSE)\n",
    "attrdf_3 <- attrdf_3[order(attrdf_3$mean_attribution, decreasing = TRUE),]\n",
    "top20_3 <- attrdf_3[1:20, ]\n",
    "colors <- colorRampPalette(c(\"#FFD700\",\"#EE7942\"))(20)#\n",
    "p3 <- ggplot(top20_3, mapping = aes(x = reorder(gene,mean_attribution), y = mean_attribution)) +\n",
    "  geom_bar(stat = 'identity',fill=colors,width=0.78,position =position_dodge(0.7)) +\n",
    "  labs(x= \" \",y=\"LUSC Attribution Score\", fill = \"gene\",size=8,family = \"sans\", face = \"bold.italic\") +\n",
    "  coord_flip()+\n",
    "  geom_text(aes(label = sprintf(\"%.3f\",mean_attribution)),size =3,hjust = ifelse(top20_3$mean_attribution < 0,0,1))+ # nolint: commas_linter.\n",
    "  scale_fill_manual(name = \"Gene\",values = colors) +\n",
    "  theme_classic() +\n",
    "  theme(axis.text = element_text(family = \"sans\",size = 10, face = \"bold.italic\")) # nolint\n",
    "#ggsave('./plot/top20_S.png',p3,width =6,height=8)\n",
    "\n",
    "p = p1+p2+p3\n",
    "ggsave('./Analysis/Figure/Attr_plot/top20_all_Lung.pdf',p,width =18,height=8)"
   ]
  },
  {
   "cell_type": "code",
   "execution_count": null,
   "id": "40b731b2",
   "metadata": {
    "vscode": {
     "languageId": "r"
    }
   },
   "outputs": [],
   "source": [
    "attrdf_1 = read.table('./ensemble_gene_attributions_normal.csv', header = TRUE,  sep = ',',  stringsAsFactors = FALSE)\n",
    "attrdf_1$consistency <- attrdf_1$mean_attribution / (attrdf_1$std_attribution + 1e-8)\n",
    "\n",
    "attrdf_2 = read.table('./ensemble_gene_attributions_lung_adenocarcinoma.csv', header = TRUE,  sep = ',',  stringsAsFactors = FALSE)\n",
    "attrdf_2$consistency <- attrdf_2$mean_attribution / (attrdf_2$std_attribution + 1e-8)\n",
    "\n",
    "attrdf_3 = read.table('./ensemble_gene_attributions_squamous_cell_lung_carcinoma.csv', header = TRUE,  sep = ',',  stringsAsFactors = FALSE)\n",
    "attrdf_3$consistency <- attrdf_3$mean_attribution / (attrdf_3$std_attribution + 1e-8)\n",
    "\n",
    "top20_1 <- attrdf_1[order(attrdf_1$mean_attribution, decreasing = TRUE),][1:20, ]\n",
    "top20_2 <- attrdf_2[order(attrdf_2$mean_attribution, decreasing = TRUE),][1:20, ]\n",
    "top20_3 <- attrdf_3[order(attrdf_3$mean_attribution, decreasing = TRUE),][1:20, ]\n",
    "\n",
    "bubble_1 <- ggplot(top20_1, aes(x = consistency, y = mean_attribution)) +\n",
    "  geom_point(aes(size = abs(mean_attribution), color = consistency), alpha = 0.8) +\n",
    "  geom_text_repel(aes(label = gene), \n",
    "                  size = 2.8, \n",
    "                  color = \"black\",\n",
    "                  box.padding = 0.5,\n",
    "                  point.padding = 0.3,\n",
    "                  segment.color = \"grey50\",\n",
    "                  segment.size = 0.3,\n",
    "                  max.overlaps = Inf) +\n",
    "  labs(x = \"Consistency (Mean/Std)\", \n",
    "       y = \"Mean Attribution Score\", \n",
    "       title = \"Normal: Top20 Genes\",\n",
    "       size = \"Attribution\\nMagnitude\",\n",
    "       color = \"Consistency\") +\n",
    "  theme_classic() +\n",
    "  theme(plot.title = element_text(hjust = 0.5, face = \"bold\", size = 12),\n",
    "        axis.text = element_text(family = \"sans\", size = 9),\n",
    "        axis.title = element_text(family = \"sans\", size = 10, face = \"bold\"),\n",
    "        legend.position = \"bottom\",\n",
    "        legend.box = \"horizontal\",\n",
    "        legend.key.size = unit(0.4, \"cm\"),\n",
    "        legend.text = element_text(size = 8),\n",
    "        legend.title = element_text(size = 9)) +\n",
    "  scale_color_gradient(low = \"#B3EE3A\", high = \"#006400\", name = \"Consistency\") +\n",
    "  scale_size_continuous(range = c(4, 12), name = \"Attribution\\nMagnitude\") +\n",
    "  guides(color = guide_colorbar(title.position = \"top\", title.hjust = 0.5),\n",
    "         size = guide_legend(title.position = \"top\", title.hjust = 0.5))\n",
    "\n",
    "bubble_2 <- ggplot(top20_2, aes(x = consistency, y = mean_attribution)) +\n",
    "  geom_point(aes(size = abs(mean_attribution), color = consistency), alpha = 0.8) +\n",
    "  geom_text_repel(aes(label = gene), \n",
    "                  size = 2.8, \n",
    "                  color = \"black\",\n",
    "                  box.padding = 0.5,\n",
    "                  point.padding = 0.3,\n",
    "                  segment.color = \"grey50\",\n",
    "                  segment.size = 0.3,\n",
    "                  max.overlaps = Inf) +\n",
    "  labs(x = \"Consistency (Mean/Std)\", \n",
    "       y = \"Mean Attribution Score\", \n",
    "       title = \"LUAD: Top20 Genes\",\n",
    "       size = \"Attribution\\nMagnitude\",\n",
    "       color = \"Consistency\") +\n",
    "  theme_classic() +\n",
    "  theme(plot.title = element_text(hjust = 0.5, face = \"bold\", size = 12),\n",
    "        axis.text = element_text(family = \"sans\", size = 9),\n",
    "        axis.title = element_text(family = \"sans\", size = 10, face = \"bold\"),\n",
    "        legend.position = \"bottom\",\n",
    "        legend.box = \"horizontal\",\n",
    "        legend.key.size = unit(0.4, \"cm\"),\n",
    "        legend.text = element_text(size = 8),\n",
    "        legend.title = element_text(size = 9)) +\n",
    "  scale_color_gradient(low = \"#87CEFA\", high = \"#1C86EE\", name = \"Consistency\") +\n",
    "  scale_size_continuous(range = c(4, 12), name = \"Attribution\\nMagnitude\") +\n",
    "  guides(color = guide_colorbar(title.position = \"top\", title.hjust = 0.5),\n",
    "         size = guide_legend(title.position = \"top\", title.hjust = 0.5))\n",
    "\n",
    "bubble_3 <- ggplot(top20_3, aes(x = consistency, y = mean_attribution)) +\n",
    "  geom_point(aes(size = abs(mean_attribution), color = consistency), alpha = 0.8) +\n",
    "  geom_text_repel(aes(label = gene), \n",
    "                  size = 2.8, \n",
    "                  color = \"black\",\n",
    "                  box.padding = 0.5,\n",
    "                  point.padding = 0.3,\n",
    "                  segment.color = \"grey50\",\n",
    "                  segment.size = 0.3,\n",
    "                  max.overlaps = Inf) +\n",
    "  labs(x = \"Consistency (Mean/Std)\", \n",
    "       y = \"Mean Attribution Score\", \n",
    "       title = \"LUSC: Top20 Genes\",\n",
    "       size = \"Attribution\\nMagnitude\",\n",
    "       color = \"Consistency\") +\n",
    "  theme_classic() +\n",
    "  theme(plot.title = element_text(hjust = 0.5, face = \"bold\", size = 12),\n",
    "        axis.text = element_text(family = \"sans\", size = 9),\n",
    "        axis.title = element_text(family = \"sans\", size = 10, face = \"bold\"),\n",
    "        legend.position = \"bottom\",\n",
    "        legend.box = \"horizontal\",\n",
    "        legend.key.size = unit(0.4, \"cm\"),\n",
    "        legend.text = element_text(size = 8),\n",
    "        legend.title = element_text(size = 9)) +\n",
    "  scale_color_gradient(low = \"#FFD700\", high = \"#EE7942\", name = \"Consistency\") +\n",
    "  scale_size_continuous(range = c(4, 12), name = \"Attribution\\nMagnitude\") +\n",
    "  guides(color = guide_colorbar(title.position = \"top\", title.hjust = 0.5),\n",
    "         size = guide_legend(title.position = \"top\", title.hjust = 0.5))\n",
    "\n",
    "bubble_combined <- bubble_1 + bubble_2 + bubble_3\n",
    "\n",
    "ggsave('./Analysis/Figure/Attr_plot//bubble_plot_Lung.pdf', \n",
    "       bubble_combined, \n",
    "       width = 15, \n",
    "       height = 8,\n",
    "       device = \"pdf\")"
   ]
  },
  {
   "cell_type": "markdown",
   "id": "34c9e3fa",
   "metadata": {},
   "source": [
    "## 2. venn plot of H-M-S"
   ]
  },
  {
   "cell_type": "code",
   "execution_count": null,
   "id": "fc9e4567",
   "metadata": {
    "vscode": {
     "languageId": "r"
    }
   },
   "outputs": [],
   "source": [
    "covid_1 = read.table('./ensemble_gene_attributions_normal.csv', header = TRUE,  sep = ',',  stringsAsFactors = FALSE)\n",
    "covid_1 <- covid_1[order(covid_1$mean_attribution, decreasing = TRUE),]\n",
    "genes_1 <- covid_1[1:20, 1] # nolint\n",
    "covid_2 = read.table('./ensemble_gene_attributions_lung_adenocarcinoma.csv', header = TRUE,  sep = ',',  stringsAsFactors = FALSE)\n",
    "covid_2 <- covid_2[order(covid_2$mean_attribution, decreasing = TRUE),]\n",
    "genes_2 <- covid_2[1:20, 1]\n",
    "covid_3 = read.table('./ensemble_gene_attributions_squamous_cell_lung_carcinoma.csv', header = TRUE,  sep = ',',  stringsAsFactors = FALSE)\n",
    "covid_3 <- covid_3[order(covid_3$mean_attribution, decreasing = TRUE),]\n",
    "genes_3 <- covid_3[1:20, 1]\n",
    "dat = list(Normal_Top20_genes=genes_1, LUAD_Top20_genes=genes_2, LUSC_Top20_genes=genes_3)\n",
    "p1 <- ggvenn(dat,show_percentage = F,stroke_color = \"white\",stroke_size = 1.5,\n",
    "             fill_color = c(\"#B4EEB4\", \"#BFEFFF\", \"#FFCC66\"),\n",
    "             set_name_size = 5,text_size=5)\n",
    "p1\n",
    "ggsave(\"./Analysis/Figure/Attr_plot/ggvenn_top20.pdf\", p1, width=5, height=5)\n",
    "\n",
    "unique_1_genes <- setdiff(genes_1, c(genes_2, genes_3))\n",
    "unique_2_genes <- setdiff(genes_2, c(genes_1, genes_3))\n",
    "unique_3_genes <- setdiff(genes_3, c(genes_1, genes_2))\n",
    "\n",
    "max_length <- max(length(unique_1_genes), length(unique_2_genes), length(unique_3_genes))\n",
    "unique_1_genes <- c(unique_1_genes, rep(NA, max_length - length(unique_1_genes)))\n",
    "unique_2_genes <- c(unique_2_genes, rep(NA, max_length - length(unique_2_genes)))\n",
    "unique_3_genes <- c(unique_3_genes, rep(NA, max_length - length(unique_3_genes)))\n",
    "\n",
    "gene_unique <- data.frame(H=unique_1_genes, M=unique_2_genes, S=unique_3_genes)\n",
    "write.csv(gene_unique, file = \"./Analysis/Figure/Attr_plot/unique_Topgenes_venn.csv\", row.names = FALSE)\n"
   ]
  },
  {
   "cell_type": "markdown",
   "id": "0a908d27",
   "metadata": {},
   "source": [
    "## 3. Heatmap of top20 gene attribution score"
   ]
  },
  {
   "cell_type": "code",
   "execution_count": null,
   "id": "b3c3fa6e",
   "metadata": {
    "vscode": {
     "languageId": "r"
    }
   },
   "outputs": [],
   "source": [
    "attrdf_1 = read.table('./ensemble_gene_attributions_normal.csv', header = TRUE,  sep = ',',  stringsAsFactors = FALSE)\n",
    "attrdf_1 <- attrdf_1[order(attrdf_1$mean_attribution, decreasing = TRUE),]\n",
    "top20_1 <- attrdf_1[1:20, ] # nolint\n",
    "attrdf_2 = read.table('./ensemble_gene_attributions_lung_adenocarcinoma.csv', header = TRUE,  sep = ',',  stringsAsFactors = FALSE)\n",
    "attrdf_2 <- attrdf_2[order(attrdf_2$mean_attribution, decreasing = TRUE),]\n",
    "top20_2 <- attrdf_2[1:20, ]\n",
    "attrdf_3 = read.table('./ensemble_gene_attributions_squamous_cell_lung_carcinoma.csv', header = TRUE,  sep = ',',  stringsAsFactors = FALSE)\n",
    "attrdf_3 <- attrdf_3[order(attrdf_3$mean_attribution, decreasing = TRUE),]\n",
    "top20_3 <- attrdf_3[1:20, ]\n",
    "combined_genes <- union(union(top20_1$gene, top20_2$gene), top20_3$gene)\n",
    "unique_genes <- unique(combined_genes)\n",
    "\n",
    "data = read.csv('./sample_gene_attribution_mean.csv',row.names = 1)\n",
    "selected_columns <- names(data) %in% unique_genes\n",
    "all_top20 = data[, selected_columns, drop = FALSE]\n",
    "all_top20 = as.matrix(all_top20)\n",
    "all_top20 <- apply(all_top20, 2, function(x) (x - min(x)) / (max(x) - min(x)))\n",
    "\n",
    "\n",
    "condition = read.csv('/data/wuqinhua/phase_1r/Lung/sample_info.csv')\n",
    "rownames(condition) <- gsub(\"\\\\.\", \"_\", rownames(condition))\n",
    "dict1 <- setNames(condition$disease, condition$sample)\n",
    "\n",
    "group = c()\n",
    "for (i in seq_along(row.names(all_top20))){\n",
    "  row_name <- row.names(all_top20)[i]\n",
    "  g <- dict1[row_name]\n",
    "  group[i] <- g\n",
    "}\n",
    "df <- data.frame(group)\n",
    "expData = t(scale(t(all_top20)))\n",
    "expData = pmax(pmin(expData,2),-2)\n",
    "\n",
    "col_fun = colorRamp2(c(-2,-1,0,1,2),rev(brewer.pal(n = 5, name = \"RdBu\")))\n",
    "\n",
    "left_ha = rowAnnotation(Cluster = df$group, simple_anno_size = unit(8,'points'),\n",
    "                        col = list(Cluster = c(\"normal\" = '#66DD00',\"lung adenocarcinoma\"=\"#77DDFF\",\"squamous cell lung carcinoma\"=\"#FFBB66\")),\n",
    "                        show_annotation_name = F)\n",
    "\n",
    "fh = function(x) fastcluster::hclust(dist(x),\"ave\")\n",
    "\n",
    "pdf('./Analysis/Figure/Attr_plot/heatmap_attr_ave.pdf',width = 7,height = 8)\n",
    "Heatmap(expData,\n",
    "        show_row_names = F,show_column_names = F,\n",
    "        show_row_dend = T,show_column_dend = T,\n",
    "        cluster_rows = fh,cluster_columns = fh,\n",
    "        col = col_fun,\n",
    "        row_title = NULL,column_title = NULL,\n",
    "        heatmap_legend_param = list(title = ''),\n",
    "        top_annotation = NULL,\n",
    "        left_annotation = left_ha,\n",
    "        right_annotation = NULL,\n",
    "        use_raster = TRUE, raster_quality = 2)\n",
    "dev.off()"
   ]
  },
  {
   "cell_type": "markdown",
   "id": "bc5d06e5",
   "metadata": {},
   "source": [
    "## 4. Heatmap of top20 gene expression level"
   ]
  },
  {
   "cell_type": "code",
   "execution_count": null,
   "id": "6cac0d55",
   "metadata": {
    "vscode": {
     "languageId": "r"
    }
   },
   "outputs": [],
   "source": [
    "import os\n",
    "import numpy as np\n",
    "import pandas as pd\n",
    "import scanpy as sc\n",
    "import scipy.sparse\n"
   ]
  },
  {
   "cell_type": "code",
   "execution_count": null,
   "id": "0acaa9ee",
   "metadata": {
    "vscode": {
     "languageId": "r"
    }
   },
   "outputs": [],
   "source": [
    "sce = sc.read_h5ad(\"/data/wuqinhua/phase_1r/Lung/Lung_CancerCell_harmony.h5ad\")\n",
    "raw_matrix = sce.raw.X.tocsr() if not scipy.sparse.isspmatrix_csr(sce.raw.X) else sce.raw.X\n",
    "raw_df = pd.DataFrame.sparse.from_spmatrix(\n",
    "        raw_matrix,\n",
    "        index=sce.obs_names,      \n",
    "        columns=sce.raw.var_names  \n",
    ")"
   ]
  },
  {
   "cell_type": "code",
   "execution_count": null,
   "id": "504d73f4",
   "metadata": {
    "vscode": {
     "languageId": "r"
    }
   },
   "outputs": [],
   "source": [
    "raw_df['sample_id'] = sce.obs['sample_id'].values\n",
    "sample_gene_expression = raw_df.groupby('sample_id').sum()\n",
    "hvg_genes = sce.var[sce.var['highly_variable']].index.tolist()\n",
    "hvg_df = sample_gene_expression[hvg_genes]\n",
    "hvg_df.to_csv(\"/data/wuqinhua/phase_1r/Lung/exp_sample_Lung.csv\")\n"
   ]
  },
  {
   "cell_type": "code",
   "execution_count": null,
   "id": "3d7a8083",
   "metadata": {
    "vscode": {
     "languageId": "r"
    }
   },
   "outputs": [],
   "source": [
    "library(tidyverse)\n",
    "library(ggplot2)\n",
    "library(ggthemes)\n",
    "library(patchwork)\n",
    "library(ggsci)\n",
    "library(ggvenn)\n",
    "library(ComplexHeatmap)\n",
    "library(RColorBrewer)\n",
    "library(ggbeeswarm)\n",
    "library(tidyr)\n",
    "library(circlize)\n",
    "library(fastcluster)\n",
    "\n",
    "setwd(\"/home/wuqinhua/Project/PHASE_1r/AttnMoE_test/result/Lung\")"
   ]
  },
  {
   "cell_type": "code",
   "execution_count": null,
   "id": "3ca141ab",
   "metadata": {
    "vscode": {
     "languageId": "r"
    }
   },
   "outputs": [],
   "source": [
    "attrdf_1 = read.table('./ensemble_gene_attributions_normal.csv', header = TRUE,  sep = ',',  stringsAsFactors = FALSE)\n",
    "attrdf_1 <- attrdf_1[order(attrdf_1$mean_attribution, decreasing = TRUE),]\n",
    "top20_1 <- attrdf_1[1:20, ] # nolint\n",
    "attrdf_2 = read.table('./ensemble_gene_attributions_lung_adenocarcinoma.csv', header = TRUE,  sep = ',',  stringsAsFactors = FALSE)\n",
    "attrdf_2 <- attrdf_2[order(attrdf_2$mean_attribution, decreasing = TRUE),]\n",
    "top20_2 <- attrdf_2[1:20, ]\n",
    "attrdf_3 = read.table('./ensemble_gene_attributions_squamous_cell_lung_carcinoma.csv', header = TRUE,  sep = ',',  stringsAsFactors = FALSE)\n",
    "attrdf_3 <- attrdf_3[order(attrdf_3$mean_attribution, decreasing = TRUE),]\n",
    "top20_3 <- attrdf_3[1:20, ]"
   ]
  },
  {
   "cell_type": "code",
   "execution_count": null,
   "id": "b22d1854",
   "metadata": {
    "vscode": {
     "languageId": "r"
    }
   },
   "outputs": [],
   "source": [
    "combined_genes <- union(union(top20_1$gene, top20_2$gene), top20_3$gene)\n",
    "unique_genes <- unique(combined_genes)\n",
    "data = read.csv('/data/wuqinhua/phase_1r/Lung/exp_sample_Lung.csv',row.names = 1)\n",
    "selected_columns <- names(data) %in% unique_genes\n",
    "all_top20 = data[, selected_columns, drop = FALSE]\n",
    "all_top20 = as.matrix(all_top20)\n",
    "all_top20 <- apply(all_top20, 2, function(x) (x - min(x)) / (max(x) - min(x)))\n",
    "\n",
    "\n",
    "condition = read.csv('/data/wuqinhua/phase_1r/Lung/sample_info.csv')\n",
    "rownames(condition) <- gsub(\"\\\\.\", \"_\", rownames(condition))\n",
    "dict1 <- setNames(condition$disease, condition$sample)\n",
    "\n",
    "group = c()\n",
    "for (i in seq_along(row.names(all_top20))){\n",
    "  row_name <- row.names(all_top20)[i]\n",
    "  g <- dict1[row_name]\n",
    "  group[i] <- g\n",
    "}\n",
    "df <- data.frame(group)\n",
    "expData = t(scale(t(all_top20)))\n",
    "expData = pmax(pmin(expData,2),-2)\n",
    "\n",
    "col_fun = colorRamp2(c(-2,-1,0,1,2),rev(brewer.pal(n = 5, name = \"RdBu\")))\n",
    "\n",
    "left_ha = rowAnnotation(Cluster = df$group, simple_anno_size = unit(8,'points'),\n",
    "                        col = list(Cluster = c(\"normal\" = '#66DD00',\"lung adenocarcinoma\"=\"#77DDFF\",\"squamous cell lung carcinoma\"=\"#FFBB66\")),\n",
    "                        show_annotation_name = F)\n",
    "\n",
    "fh = function(x) fastcluster::hclust(dist(x),\"ave\")\n",
    "\n",
    "pdf('./Analysis/Figure/Attr_plot/heatmap_exp_ave.pdf',width = 7,height = 8)\n",
    "Heatmap(expData,\n",
    "        show_row_names = F,show_column_names = F,\n",
    "        show_row_dend = T,show_column_dend = T,\n",
    "        cluster_rows = fh,cluster_columns = fh,\n",
    "        col = col_fun,\n",
    "        row_title = NULL,column_title = NULL,\n",
    "        heatmap_legend_param = list(title = ''),\n",
    "        top_annotation = NULL,\n",
    "        left_annotation = left_ha,\n",
    "        right_annotation = NULL,\n",
    "        use_raster = TRUE, raster_quality = 2)\n",
    "dev.off()\n"
   ]
  }
 ],
 "metadata": {
  "kernelspec": {
   "display_name": "R",
   "language": "R",
   "name": "ir"
  },
  "language_info": {
   "codemirror_mode": "r",
   "file_extension": ".r",
   "mimetype": "text/x-r-source",
   "name": "R",
   "pygments_lexer": "r",
   "version": "4.4.0"
  }
 },
 "nbformat": 4,
 "nbformat_minor": 5
}
