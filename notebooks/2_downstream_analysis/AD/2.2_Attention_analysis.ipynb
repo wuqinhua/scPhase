{
 "cells": [
  {
   "cell_type": "code",
   "execution_count": null,
   "metadata": {
    "vscode": {
     "languageId": "r"
    }
   },
   "outputs": [],
   "source": [
    "import os\n",
    "import sys\n",
    "import scipy\n",
    "import numpy as np\n",
    "import pandas as pd\n",
    "import scanpy as sc\n",
    "import seaborn as sns\n",
    "import scipy.io as sio\n",
    "import anndata as ad\n",
    "import matplotlib.pyplot as plt\n",
    "\n",
    "os.chdir(\"/home/wuqinhua/Project/PHASE_1r/AttnMoE_test/result/AD\")"
   ]
  },
  {
   "cell_type": "markdown",
   "metadata": {},
   "source": [
    "# 1. Cell-level"
   ]
  },
  {
   "cell_type": "code",
   "execution_count": null,
   "metadata": {
    "vscode": {
     "languageId": "r"
    }
   },
   "outputs": [],
   "source": [
    "adata = sc.read_h5ad(\"./ensemble_adata_with_attention.h5ad\")\n",
    "adata"
   ]
  },
  {
   "cell_type": "code",
   "execution_count": null,
   "metadata": {
    "vscode": {
     "languageId": "r"
    }
   },
   "outputs": [],
   "source": [
    "metadata = adata.obs\n",
    "metadata.to_csv(\"./AD_metadata.csv\")"
   ]
  },
  {
   "cell_type": "code",
   "execution_count": null,
   "metadata": {
    "vscode": {
     "languageId": "r"
    }
   },
   "outputs": [],
   "source": [
    "idList = adata.obs['sample_id'].unique()\n",
    "for id in idList:\n",
    "    attnTmp = adata.obs[adata.obs['sample_id'] == id]\n",
    "    avgScore = 1 / len(attnTmp)\n",
    "    log_attn = np.log2(attnTmp['attention_weight_mean'] / avgScore)\n",
    "    attn_scaled = (log_attn - np.mean(log_attn)) / np.std(log_attn)\n",
    "    attn_scaled_clipped = np.clip(attn_scaled, -1, 1)\n",
    "    adata.obs.loc[adata.obs['sample_id'] == id, 'attn_scaled'] = attn_scaled_clipped"
   ]
  },
  {
   "cell_type": "code",
   "execution_count": null,
   "metadata": {
    "vscode": {
     "languageId": "r"
    }
   },
   "outputs": [],
   "source": [
    "adata1 = adata[adata.obs['phenotype'] == \"Not AD\"]\n",
    "adata2 = adata[adata.obs['phenotype'] == \"Low\"]\n",
    "adata3 = adata[adata.obs['phenotype'] == \"Intermediate\"]\n",
    "adata4 = adata[adata.obs['phenotype'] == \"High\"]    \n"
   ]
  },
  {
   "cell_type": "code",
   "execution_count": null,
   "metadata": {
    "vscode": {
     "languageId": "r"
    }
   },
   "outputs": [],
   "source": [
    "sc.settings.verbosity = 1\n",
    "sc.settings.figdir = '/home/wuqinhua/Project/PHASE_1r/AttnMoE_test/result/AD/Analysis/Figure/Attn_plot'\n",
    "sc.settings.set_figure_params(dpi=100, fontsize=10, dpi_save=400,\n",
    "    facecolor = 'white', figsize=(6,6), format='png')\n",
    "def one_col_lgd(umap,ncol):\n",
    "    legend = umap.legend(bbox_to_anchor=[1.00, 0.5],\n",
    "    loc='center left', ncol=ncol, prop={'size': 6})\n",
    "    legend.get_frame().set_linewidth(0.0)\n",
    "    return legend"
   ]
  },
  {
   "cell_type": "code",
   "execution_count": null,
   "metadata": {
    "vscode": {
     "languageId": "r"
    }
   },
   "outputs": [],
   "source": [
    "leiden_umap = sc.pl.umap(adata, color=['celltype'],\n",
    "    show=False, palette=sns.color_palette(\"husl\", 12),\n",
    "legend_fontsize=6, frameon=True, title='celltype')\n",
    "lgd = one_col_lgd(leiden_umap)\n",
    "fig = leiden_umap.get_figure()\n",
    "fig.set_size_inches(5, 5)\n",
    "fig.savefig(str(sc.settings.figdir) + '/umap_celltype.pdf', \n",
    "            format='pdf', bbox_extra_artists=(lgd,), bbox_inches='tight')"
   ]
  },
  {
   "cell_type": "code",
   "execution_count": null,
   "metadata": {
    "vscode": {
     "languageId": "r"
    }
   },
   "outputs": [],
   "source": [
    "sc.pl.umap(adata, color=['celltype'], legend_loc=\"on data\")"
   ]
  },
  {
   "cell_type": "code",
   "execution_count": null,
   "metadata": {
    "vscode": {
     "languageId": "r"
    }
   },
   "outputs": [],
   "source": [
    "leiden_umap = sc.pl.umap(adata, color=['Supertype'],\n",
    "    show=False, palette=sns.color_palette(\"husl\", 150),\n",
    "legend_fontsize=6, frameon=True, title='celltype')\n",
    "lgd = one_col_lgd(leiden_umap,5)\n",
    "fig = leiden_umap.get_figure()\n",
    "fig.set_size_inches(5, 5)\n",
    "fig.savefig(str(sc.settings.figdir) + '/umap_Supertype.pdf', \n",
    "            format='pdf', bbox_extra_artists=(lgd,), bbox_inches='tight')"
   ]
  },
  {
   "cell_type": "code",
   "execution_count": null,
   "metadata": {
    "vscode": {
     "languageId": "r"
    }
   },
   "outputs": [],
   "source": [
    "leiden_umap = sc.pl.umap(adata1, color='attn_scaled', show=False, legend_fontsize=6, color_map ='viridis',\n",
    "                           frameon= True, title='Attention Score of normal',save=\"_attn_normal.pdf\")"
   ]
  },
  {
   "cell_type": "code",
   "execution_count": null,
   "metadata": {
    "vscode": {
     "languageId": "r"
    }
   },
   "outputs": [],
   "source": [
    "leiden_umap = sc.pl.umap(adata2, color='attn_scaled', show=False, legend_fontsize=6, color_map ='viridis',\n",
    "                           frameon= True, title='Attention Score of Low',save=\"_attn_Low.pdf\")"
   ]
  },
  {
   "cell_type": "code",
   "execution_count": null,
   "metadata": {
    "vscode": {
     "languageId": "r"
    }
   },
   "outputs": [],
   "source": [
    "leiden_umap = sc.pl.umap(adata3, color='attn_scaled', show=False, legend_fontsize=6, color_map ='viridis',\n",
    "                           frameon= True, title='Attention Score of Intermediate',save=\"_attn_Intermediate.pdf\")\n"
   ]
  },
  {
   "cell_type": "code",
   "execution_count": null,
   "metadata": {
    "vscode": {
     "languageId": "r"
    }
   },
   "outputs": [],
   "source": [
    "leiden_umap = sc.pl.umap(adata4, color='attn_scaled', show=False, legend_fontsize=6, color_map ='viridis',\n",
    "                           frameon= True, title='Attention Score of High',save=\"_attn_High.pdf\")\n"
   ]
  },
  {
   "cell_type": "markdown",
   "metadata": {},
   "source": [
    "# 2. Celltype-level"
   ]
  },
  {
   "cell_type": "code",
   "execution_count": null,
   "metadata": {
    "vscode": {
     "languageId": "r"
    }
   },
   "outputs": [],
   "source": [
    "setwd('/home/wuqinhua/Project/PHASE_1r/AttnMoE_test/result/AD')\n",
    "# rm(list = ls())\n",
    "# gc()\n",
    "\n",
    "library(tidyr)\n",
    "library(ggplot2)\n",
    "library(forestploter)\n",
    "library(gridExtra)\n",
    "library(tidyverse)\n",
    "library(dplyr)\n",
    "library(broom)\n",
    "library(ggpubr)\n",
    "library(randomForest)\n",
    "library(mice)\n",
    "library(reshape2)\n",
    "library(Metrics)\n",
    "library(ComplexHeatmap)\n",
    "library(RColorBrewer)\n",
    "library(fastcluster)\n",
    "library(ggbeeswarm)\n",
    "library(circlize)\n",
    "library(ggrepel)\n",
    "library(ggpubr)\n",
    "library(scales) \n",
    "library(ggtext)\n",
    "library(lme4)\n",
    "library(lmerTest)\n",
    "library(ordinal)  "
   ]
  },
  {
   "cell_type": "markdown",
   "metadata": {},
   "source": [
    "### 2.1 Scatter trend plot"
   ]
  },
  {
   "cell_type": "code",
   "execution_count": null,
   "metadata": {
    "vscode": {
     "languageId": "r"
    }
   },
   "outputs": [],
   "source": [
    "attnData = read.csv('./AD_metadata.csv')\n",
    "head(attnData)\n",
    "colnames(attnData)\n",
    "\n",
    "nameAll = unique(attnData$celltype)\n",
    "nameAll = sort(nameAll)\n",
    "nameAll\n",
    "\n",
    "nameList = nameAll\n",
    "\n",
    "\n",
    "sampleFold = data.frame(id = character(), celltype = character(), fold = numeric())\n",
    "idList = unique(attnData$sample_id)\n",
    "for (id in idList) {\n",
    "  attnTmp = attnData %>% filter(sample_id == id)\n",
    "  avgScore = 1 / dim(attnTmp)[1]\n",
    "  foldRes = attnTmp %>% group_by(celltype) %>% summarise(res = median(log2(attention_weight_mean/avgScore)))\n",
    "  dataTmp = data.frame(id = rep(id,dim(foldRes)[1]),\n",
    "                       celltype = foldRes$celltype,\n",
    "                       fold = foldRes$res)\n",
    "  dataTmp_s = dataTmp %>% filter(celltype %in% nameList)\n",
    "  \n",
    "  dataTmp_s$fold = scale(dataTmp_s$fold)\n",
    "  sampleFold = rbind(sampleFold,dataTmp_s)\n",
    "}\n",
    "\n",
    "sampleFold.Table = dcast(sampleFold,id ~ celltype)\n",
    "rownames(sampleFold.Table) = sampleFold.Table$id\n",
    "sampleFold.Table$id = NULL\n",
    "\n",
    "sampleInfo = read.csv('/data/wuqinhua/phase_1r/AD/sample_info.csv')\n",
    "rownames(sampleInfo) = sampleInfo$sample_id\n",
    "sampleInfo = sampleInfo[rownames(sampleFold.Table),]\n",
    "head(sampleFold.Table)"
   ]
  },
  {
   "cell_type": "code",
   "execution_count": null,
   "metadata": {
    "vscode": {
     "languageId": "r"
    }
   },
   "outputs": [],
   "source": [
    "# ===================================================================\n",
    "# 1. Calculation Score 1: Association with Categorical Phenotypes (Linear Mixed-Effects Model)\n",
    "# ===================================================================\n",
    "\n",
    "modeling_data <- merge(sampleFold.Table, sampleInfo, by.x = \"row.names\", by.y = \"sample_id\")\n",
    "\n",
    "rownames(modeling_data) <- modeling_data$Row.names\n",
    "modeling_data$Row.names <- NULL\n",
    "\n",
    "modeling_data$phenotype <- as.factor(modeling_data$phenotype)\n",
    "\n",
    "phenotype_association_scores_lmm <- data.frame(\n",
    "  cell_type = character(),\n",
    "  p_value = numeric()\n",
    ")\n",
    "\n",
    "for (cell in colnames(sampleFold.Table)) {\n",
    "\n",
    "  formula <- as.formula(paste0(\"`\", cell, \"` ~ phenotype + (1 | donor_id)\"))\n",
    "\n",
    "  model_fit <- try(lmer(formula, data = modeling_data))\n",
    "\n",
    "  if (inherits(model_fit, \"try-error\")) {\n",
    "    p_val <- NA\n",
    "  } else {\n",
    "    model_summary <- summary(model_fit)\n",
    "    p_val <- anova(model_fit)$`Pr(>F)`[1] \n",
    "  }\n",
    "  \n",
    "  phenotype_association_scores_lmm <- rbind(\n",
    "    phenotype_association_scores_lmm,\n",
    "    data.frame(\n",
    "      cell_type = cell,\n",
    "      p_value = p_val\n",
    "    )\n",
    "  )\n",
    "}\n",
    "\n",
    "phenotype_association_scores_lmm <- phenotype_association_scores_lmm %>%\n",
    "  mutate(neg_log10_pval = -log10(p_value))\n",
    "\n",
    "head(phenotype_association_scores_lmm)\n",
    "\n",
    "# ===================================================================\n",
    "# 2. Calculation Score 2: Population Volatility (standard deviation considering donor effect)\n",
    "# ===================================================================\n",
    "long_format_data <- sampleFold.Table %>%\n",
    "  rownames_to_column(var = \"sample_id\") %>%\n",
    "  pivot_longer(\n",
    "    cols = -sample_id,\n",
    "    names_to = \"cell_type\",\n",
    "    values_to = \"score\"\n",
    "  ) %>%\n",
    "  left_join(sampleInfo %>% select(sample_id, donor_id), by = \"sample_id\")\n",
    "\n",
    "head(long_format_data)\n",
    "\n",
    "donor_variation_scores <- data.frame(\n",
    "  cell_type = character(),\n",
    "  donor_effect_sd = numeric())\n",
    "\n",
    "for (cell in colnames(sampleFold.Table)) {\n",
    "\n",
    "  subset_data <- long_format_data %>%\n",
    "    filter(cell_type == cell) %>%\n",
    "    na.omit()\n",
    "\n",
    "  model_fit <- try(lmer(score ~ (1 | donor_id), data = subset_data))\n",
    "  \n",
    "  sd_val <- NA \n",
    "  \n",
    "  if (!inherits(model_fit, \"try-error\")) {\n",
    "    var_corr <- as.data.frame(VarCorr(model_fit))\n",
    "    sd_val <- var_corr[var_corr$grp == \"donor_id\", \"sdcor\"]\n",
    "  }\n",
    "  \n",
    "  donor_variation_scores <- rbind(\n",
    "    donor_variation_scores,\n",
    "    data.frame(\n",
    "      cell_type = cell,\n",
    "      donor_effect_sd = sd_val\n",
    "    )\n",
    "  )\n",
    "}\n",
    "\n",
    "head(donor_variation_scores)"
   ]
  },
  {
   "cell_type": "code",
   "execution_count": null,
   "metadata": {
    "vscode": {
     "languageId": "r"
    }
   },
   "outputs": [],
   "source": [
    "# ===================================================================\n",
    "# 3. Integrate the scores and create \"key scores\" for coloring\n",
    "# ===================================================================\n",
    "plot_data_combined_score <- merge(\n",
    "  phenotype_association_scores_lmm, \n",
    "  donor_variation_scores, \n",
    "  by = \"cell_type\"\n",
    ") %>%\n",
    "  mutate(\n",
    "    scaled_pval = rescale(neg_log10_pval, to = c(0, 1)),\n",
    "    scaled_sd = rescale(donor_effect_sd, to = c(0, 1)),\n",
    "    keyness_score = scaled_pval * scaled_sd,\n",
    "    label_text = ifelse(keyness_score > quantile(keyness_score, 0.6, na.rm = TRUE), cell_type, \"\")\n",
    "  )\n",
    "\n",
    "head(plot_data_combined_score)\n",
    "\n",
    "# ===================================================================\n",
    "# 4. Plot\n",
    "# ===================================================================\n",
    "combined_score_plot <- ggplot(plot_data_combined_score, \n",
    "                              aes(x = neg_log10_pval, \n",
    "                                  y = donor_effect_sd, \n",
    "                                  color = keyness_score, \n",
    "                                  label = label_text)) +\n",
    "  geom_point(size = 6, alpha = 0.8) +\n",
    "  scale_color_distiller(palette = \"Reds\", direction = 1, name = \"Keyness Score\") +\n",
    "  geom_text_repel(color = \"black\", size = 4, max.overlaps = Inf,\n",
    "                  box.padding = 0.6, min.segment.length = 0) +\n",
    "  geom_vline(xintercept = -log10(0.05), linetype = \"dashed\", color = \"gray50\") +\n",
    "  theme_bw(base_size = 12) +\n",
    "  labs(\n",
    "    title = \"Identifying Key Cell Types by Combined Score (with Donor Effect)\",\n",
    "    subtitle = \"Color intensity reflects the composite score of association and variation\",\n",
    "    x = \"Strength of Association with Phenotype (-log10 P-value from LMM)\",\n",
    "    y = \"Overall Variation (Standard Deviation)\"\n",
    "  ) +\n",
    "  theme(\n",
    "    plot.title = element_text(hjust = 0.5, face = \"bold\", size = 12),\n",
    "    plot.subtitle = element_text(hjust = 0.5, size = 10, color = \"gray30\"),\n",
    "    legend.position = \"right\"\n",
    "  )\n",
    "\n",
    "ggsave(\"./Analysis/Figure/Attn_plot/classification_combined_score_plot_with_donor_effect.pdf\", \n",
    "       combined_score_plot, \n",
    "       width = 8, height = 5, dpi = 300)\n",
    "\n",
    "print(combined_score_plot)"
   ]
  },
  {
   "cell_type": "markdown",
   "metadata": {},
   "source": [
    "### 2.2 Violin Plot"
   ]
  },
  {
   "cell_type": "code",
   "execution_count": null,
   "metadata": {
    "vscode": {
     "languageId": "r"
    }
   },
   "outputs": [],
   "source": [
    "attnData = read.csv('./AD_metadata.csv')\n",
    "head(attnData)\n",
    "colnames(attnData)\n",
    "\n",
    "nameAll = unique(attnData$Supertype)\n",
    "nameAll = sort(nameAll)\n",
    "nameAll\n",
    "\n",
    "nameList = nameAll\n",
    "\n",
    "sampleFold = data.frame(id = character(), celltype = character(), fold = numeric())\n",
    "idList = unique(attnData$sample_id)\n",
    "for (id in idList) {\n",
    "  attnTmp = attnData %>% filter(sample_id == id)\n",
    "  avgScore = 1 / dim(attnTmp)[1]\n",
    "  foldRes = attnTmp %>% group_by(Supertype) %>% summarise(res = median(log2(attention_weight_mean/avgScore)))\n",
    "  dataTmp = data.frame(id = rep(id,dim(foldRes)[1]),\n",
    "                       celltype = foldRes$Supertype,\n",
    "                       fold = foldRes$res)\n",
    "  dataTmp_s = dataTmp %>% filter(celltype %in% nameList)\n",
    "  \n",
    "  dataTmp_s$fold = scale(dataTmp_s$fold)\n",
    "  sampleFold = rbind(sampleFold,dataTmp_s)\n",
    "}\n",
    "\n",
    "sampleFold.Table = dcast(sampleFold,id ~ celltype)\n",
    "rownames(sampleFold.Table) = sampleFold.Table$id\n",
    "sampleFold.Table$id = NULL\n",
    "\n",
    "sampleInfo = read.csv('/data/wuqinhua/phase_1r/AD/sample_info.csv')\n",
    "rownames(sampleInfo) = sampleInfo$sample_id\n",
    "sampleInfo = sampleInfo[rownames(sampleFold.Table),]\n",
    "head(sampleFold.Table)\n",
    "\n",
    "cell_types_attn <- colnames(sampleFold.Table)\n",
    "combined_data_atten <- data.frame()\n",
    "for (cell in cell_types_attn) {\n",
    "  dataTmp <- data.frame(\n",
    "    atten = sampleFold.Table[[cell]],\n",
    "    group = sampleInfo$phenotype,\n",
    "    donor_id = sampleInfo$donor_id,\n",
    "    cell_type = cell\n",
    "  )\n",
    "  dataTmp_s <- na.omit(dataTmp)\n",
    "  combined_data_atten <- rbind(combined_data_atten, dataTmp_s)\n",
    "}\n",
    "\n",
    "custom_colors <- c(\"Not AD\" = '#66DD00',\"Low\"=\"#77DDFF\",\"Intermediate\"=\"#FFBB66\",'High'='#bb7ae9')\n",
    "\n",
    "plot_df_attn <- combined_data_atten %>%\n",
    "  dplyr::rename(Attn = atten) %>%\n",
    "  dplyr::mutate(group = factor(group, levels = names(custom_colors))) %>%\n",
    "  na.omit()\n",
    "\n",
    "annotation_data_lmm <- plot_df_attn %>%\n",
    "  group_by(cell_type) %>%\n",
    "  do(broom::tidy(anova(lmer(Attn ~ group + (1 | donor_id), data = .)))) %>%\n",
    "  ungroup() %>%\n",
    "  filter(term == \"group\") %>%\n",
    "  mutate(\n",
    "    significance = case_when(\n",
    "      p.value < 0.001 ~ \"***\",\n",
    "      p.value < 0.01  ~ \"**\",\n",
    "      p.value < 0.05  ~ \"*\",\n",
    "      TRUE ~ \"ns\"\n",
    "    ),\n",
    "    title_with_sig = paste0(cell_type, \" \", significance),\n",
    "    \n",
    "    stat_label = paste0(\n",
    "        \"F = \", round(statistic, 2),      \n",
    "        \", \",                             \n",
    "        scales::pvalue(p.value,           \n",
    "                       accuracy = 0.001, \n",
    "                       add_p = TRUE)\n",
    "    )\n",
    "  )\n",
    "\n",
    "plot_df_attn_final <- plot_df_attn %>%\n",
    "  left_join(annotation_data_lmm %>% select(cell_type, title_with_sig), by = \"cell_type\") %>%\n",
    "  filter(!is.na(title_with_sig))\n",
    "\n",
    "\n",
    "p_facet_classification_updated <- ggplot(plot_df_attn_final, \n",
    "                                         aes(x = group, y = Attn, fill = group)) +\n",
    "  \n",
    "  geom_violin(trim = FALSE, alpha = 0.8) +\n",
    "  geom_boxplot(width = 0.15, fill = \"white\", alpha = 0.7, outlier.shape = NA) +\n",
    "  \n",
    "  geom_text(\n",
    "    data = annotation_data_lmm, \n",
    "    aes(label = stat_label), \n",
    "    x = -Inf, y = Inf,\n",
    "    hjust = -0.1, vjust = 2,\n",
    "    size = 3.5,\n",
    "    fontface = \"italic\",\n",
    "    inherit.aes = FALSE\n",
    "  ) + \n",
    "  \n",
    "  scale_fill_manual(values = custom_colors, name = \"Phenotype\") +\n",
    "\n",
    "  facet_wrap(~title_with_sig, scales = \"free\",ncol = 10) +\n",
    "  \n",
    "  labs(\n",
    "    title = \"Attention Score Distribution (accounting for Donor Effect)\",\n",
    "    y = \"Standardized Attention Score\"\n",
    "  ) +\n",
    "  \n",
    "  theme_classic(base_size = 12) +\n",
    "  theme(\n",
    "    panel.grid.major.x = element_blank(),\n",
    "    panel.grid.minor = element_blank(),\n",
    "    strip.background = element_rect(fill = \"#EFEFEF\", color = NA),\n",
    "    strip.text = element_text(size = 10, face = \"bold\", color = \"#333333\"),\n",
    "    axis.text.x = element_text(size = 9, angle = 45, hjust = 1),\n",
    "    axis.text.y = element_text(size = 8),\n",
    "    axis.title = element_text(size = 10, face = \"bold\"),\n",
    "    legend.position = \"right\",\n",
    "    axis.title.x = element_blank()\n",
    "  )\n",
    "\n",
    "ggsave(\"./Analysis/Figure/Attn_plot/attn_classification_violin_plot_with_donor_effect_Supertype.pdf\",\n",
    "       p_facet_classification_updated, width = 30, height = 45, dpi = 300)\n",
    "\n",
    "print(p_facet_classification_updated)"
   ]
  },
  {
   "cell_type": "markdown",
   "metadata": {},
   "source": [
    "### 2.3 Ordered logistic regression"
   ]
  },
  {
   "cell_type": "code",
   "execution_count": null,
   "metadata": {
    "vscode": {
     "languageId": "r"
    }
   },
   "outputs": [],
   "source": [
    "attnData = read.csv('./AD_metadata.csv')\n",
    "head(attnData)\n",
    "colnames(attnData)\n",
    "\n",
    "nameAll = unique(attnData$Supertype)\n",
    "nameAll = sort(nameAll)\n",
    "nameAll\n",
    "\n",
    "nameList = nameAll\n",
    "\n",
    "sampleFold = data.frame(id = character(), celltype = character(), fold = numeric())\n",
    "idList = unique(attnData$sample_id)\n",
    "for (id in idList) {\n",
    "  attnTmp = attnData %>% filter(sample_id == id)\n",
    "  avgScore = 1 / dim(attnTmp)[1]\n",
    "  foldRes = attnTmp %>% group_by(Supertype) %>% summarise(res = median(log2(attention_weight_mean/avgScore)))\n",
    "  dataTmp = data.frame(id = rep(id,dim(foldRes)[1]),\n",
    "                       celltype = foldRes$Supertype,\n",
    "                       fold = foldRes$res)\n",
    "  dataTmp_s = dataTmp %>% filter(celltype %in% nameList)\n",
    "  \n",
    "  dataTmp_s$fold = scale(dataTmp_s$fold)\n",
    "  sampleFold = rbind(sampleFold,dataTmp_s)\n",
    "}\n",
    "\n",
    "sampleFold.Table = dcast(sampleFold,id ~ celltype)\n",
    "rownames(sampleFold.Table) = sampleFold.Table$id\n",
    "sampleFold.Table$id = NULL\n",
    "\n",
    "sampleInfo = read.csv('/data/wuqinhua/phase_1r/AD/sample_info.csv')\n",
    "rownames(sampleInfo) = sampleInfo$sample_id\n",
    "sampleInfo = sampleInfo[rownames(sampleFold.Table),]\n",
    "head(sampleFold.Table)"
   ]
  },
  {
   "cell_type": "code",
   "execution_count": null,
   "metadata": {
    "vscode": {
     "languageId": "r"
    }
   },
   "outputs": [],
   "source": [
    "phenotype_levels <- c(\"Not AD\", \"Low\", \"Intermediate\", \"High\")\n",
    "sampleInfo$phenotype_ordered <- factor(\n",
    "  sampleInfo$phenotype, \n",
    "  levels = phenotype_levels, \n",
    "  ordered = TRUE\n",
    ")\n",
    "\n",
    "print(levels(sampleInfo$phenotype_ordered))\n",
    "print(class(sampleInfo$phenotype_ordered))\n",
    "\n",
    "ordinal_data_long <- sampleFold.Table %>%\n",
    "  tibble::rownames_to_column(\"sample_id\") %>%\n",
    "  pivot_longer(\n",
    "    cols = -sample_id,\n",
    "    names_to = \"Supertype\",\n",
    "    values_to = \"attn_value\"\n",
    "  ) %>%\n",
    "  left_join(\n",
    "    sampleInfo %>% select(sample_id, donor_id, phenotype_ordered), \n",
    "    by = \"sample_id\"\n",
    "  ) %>%\n",
    "  na.omit()\n",
    "\n",
    "print(head(ordinal_data_long))"
   ]
  },
  {
   "cell_type": "code",
   "execution_count": null,
   "metadata": {
    "vscode": {
     "languageId": "r"
    }
   },
   "outputs": [],
   "source": [
    "cell_type_list <- unique(ordinal_data_long$Supertype)\n",
    "results_list <- list()\n",
    "MIN_SAMPLES_PER_LEVEL <- 10\n",
    "\n",
    "\n",
    "for (ct in cell_type_list) {\n",
    "  subset_data <- ordinal_data_long %>% filter(Supertype == ct)\n",
    "  level_counts <- table(subset_data$phenotype_ordered)\n",
    "  if (any(level_counts < MIN_SAMPLES_PER_LEVEL) || nrow(subset_data) < 50) {\n",
    "      cat(paste(\"celltype:\", ct, \"The data is insufficient. Skipped.\\n\"))\n",
    "      next \n",
    "  }\n",
    "\n",
    "  cat(paste(\"Processing cell type:\", ct, \"\\n\"))\n",
    "  \n",
    "  model_control <- clmm.control(\n",
    "    maxIter = 1000,        \n",
    "    gradTol = 1e-5       \n",
    "  )\n",
    "\n",
    "  model_fit <- try({\n",
    "    clmm(\n",
    "      phenotype_ordered ~ attn_value + (1 | donor_id), \n",
    "      data = subset_data,\n",
    "      control = model_control \n",
    "    )\n",
    "  }, silent = TRUE)  \n",
    "  \n",
    "  if (!inherits(model_fit, \"try-error\")) {\n",
    "    summary_fit <- summary(model_fit)\n",
    "    coef_table <- summary_fit$coefficients\n",
    "    attn_coef_row <- coef_table[rownames(coef_table) == \"attn_value\", ]\n",
    "    \n",
    "    conf_int_result <- try(\n",
    "      confint(model_fit, parm = \"attn_value\"),  \n",
    "      silent = TRUE\n",
    "    )\n",
    "    if (inherits(conf_int_result, \"try-error\") || nrow(conf_int_result) == 0) {\n",
    "        cat(paste(\"celltype:\", ct, \"The confidence interval cannot be calculated and has been skipped.\\n\"))\n",
    "        next\n",
    "    }\n",
    "   \n",
    "    odds_ratio <- exp(attn_coef_row[\"Estimate\"])\n",
    "    conf_int <- exp(conf_int_result)  \n",
    "    \n",
    "    results_list[[ct]] <- data.frame(\n",
    "      Supertype = ct,\n",
    "      odds_ratio = odds_ratio,\n",
    "      ci_low = conf_int[1],    \n",
    "      ci_high = conf_int[2],   \n",
    "      p_value = attn_coef_row[\"Pr(>|z|)\"],\n",
    "      stringsAsFactors = FALSE\n",
    "    )\n",
    "  } else {\n",
    "    cat(paste(\"celltype:\", ct, \"Model fitting failed (it may still not converge. You can try to increase maxIter)\\n\"))\n",
    "  }\n",
    "}\n",
    "\n",
    "if (length(results_list) > 0) {\n",
    "  model_results_df <- do.call(rbind, results_list)\n",
    "  rownames(model_results_df) <- NULL  \n",
    "} else {\n",
    "  model_results_df <- data.frame()  \n",
    "  cat(\"No model was successfully fitted for all cell types.\\n\")\n",
    "}"
   ]
  },
  {
   "cell_type": "code",
   "execution_count": null,
   "metadata": {
    "vscode": {
     "languageId": "r"
    }
   },
   "outputs": [],
   "source": [
    "model_results_df <- do.call(rbind, results_list)\n",
    "rownames(model_results_df) <- NULL\n",
    "\n",
    "forest_plot_data <- model_results_df %>%\n",
    "  mutate(\n",
    "    cell_type_sorted = fct_reorder(Supertype, odds_ratio),\n",
    "    significance = ifelse(p_value < 0.05, \"p < 0.05\", \"p ≥ 0.05\")\n",
    "  )\n",
    "\n",
    "supertype_map <- attnData %>%\n",
    "  select(Supertype, celltype) %>%\n",
    "  distinct()\n",
    "  \n",
    "effect_plot_data <- left_join(forest_plot_data, supertype_map, by = \"Supertype\") %>%\n",
    "  mutate(\n",
    "    log_or = log(odds_ratio),\n",
    "    log_ci_low = log(ci_low),\n",
    "    log_ci_high = log(ci_high),\n",
    "    label_color = ifelse(p_value < 0.05, \"red\", \"black\")\n",
    "  ) %>%\n",
    "  na.omit()\n",
    "\n",
    "celltype_order <- c(\"Lamp5\", \"Pax6\", \"Sncg\", \"Vip\", \"Sst\", \"Sst Chodl\", \"Pvalb\", \"Pvalb and chandelier\", \n",
    "                    \"L2/3 IT\", \"L4 IT\", \"L5 IT\", \"L5 ET\", \"L6 IT\", \"L6 CT\", \"L6b\", \"L5/6 NP\", \"L6 IT Car3\",\n",
    "                    \"Astrocyte\", \"OPC\", \"Oligodendrocyte\", \"VLMC\", \"Microglia and immune\", \"Endothelial\")\n",
    "existing_levels <- intersect(celltype_order, unique(effect_plot_data$celltype))\n",
    "effect_plot_data$celltype <- factor(effect_plot_data$celltype, levels = existing_levels)\n",
    "\n",
    "effect_plot_data <- effect_plot_data %>%\n",
    "  arrange(celltype, Supertype)\n",
    "\n",
    "axis_label_colors <- effect_plot_data$label_color\n",
    "\n",
    "effect_plot_data$Supertype <- factor(effect_plot_data$Supertype, levels = unique(effect_plot_data$Supertype))\n",
    "\n",
    "final_plot_no_errorbars <- ggplot(\n",
    "  data = effect_plot_data, \n",
    "  aes(x = Supertype, y = log_or, fill = celltype)\n",
    ") +\n",
    "  geom_col(width = 0.7) +\n",
    "  \n",
    "  geom_hline(yintercept = 0, linetype = \"solid\", color = \"black\", linewidth = 0.5) +\n",
    "  \n",
    "  facet_grid(. ~ celltype, scales = \"free_x\", space = \"free_x\") +\n",
    "  \n",
    "  labs(\n",
    "    y = \"Effect Size (log Odds Ratio)\",\n",
    "    x = NULL\n",
    "  ) +\n",
    "\n",
    "  theme_classic(base_size = 12) +\n",
    "  theme(\n",
    "    axis.text.x = element_text(angle = 90, vjust = 0.5, hjust = 1, color = axis_label_colors),\n",
    "    axis.ticks.x = element_blank(),\n",
    "    legend.position = \"none\",\n",
    "    strip.background = element_rect(fill = \"grey90\", color = NA),\n",
    "    strip.text = element_text(face = \"bold\", size = 12),\n",
    "    panel.spacing.x = unit(0, \"lines\"),\n",
    "    panel.border = element_rect(color = \"grey70\", linetype = \"dashed\", fill = NA)\n",
    "  )\n",
    "\n",
    "ggsave(\"./Analysis/Figure/Attn_plot/final_plot_no_errorbars.pdf\",\n",
    "       final_plot_no_errorbars, width = 25, height = 8, dpi = 300)\n",
    "\n",
    "print(final_plot_no_errorbars)"
   ]
  }
 ],
 "metadata": {
  "kernelspec": {
   "display_name": "R",
   "language": "R",
   "name": "ir"
  },
  "language_info": {
   "codemirror_mode": {
    "name": "ipython",
    "version": 3
   },
   "file_extension": ".py",
   "mimetype": "text/x-python",
   "name": "R",
   "nbconvert_exporter": "python",
   "pygments_lexer": "ipython3",
   "version": "3.10.14"
  }
 },
 "nbformat": 4,
 "nbformat_minor": 2
}
