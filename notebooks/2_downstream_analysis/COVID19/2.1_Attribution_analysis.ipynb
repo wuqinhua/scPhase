{
 "cells": [
  {
   "cell_type": "code",
   "execution_count": null,
   "id": "c9fac1cd",
   "metadata": {
    "vscode": {
     "languageId": "r"
    }
   },
   "outputs": [],
   "source": [
    "library(tidyverse)\n",
    "library(ggplot2)\n",
    "library(ggthemes)\n",
    "library(patchwork)\n",
    "library(ggsci)\n",
    "library(ggvenn)\n",
    "library(ComplexHeatmap)\n",
    "library(RColorBrewer)\n",
    "library(ggbeeswarm)\n",
    "library(tidyr)\n",
    "library(circlize)\n",
    "library(fastcluster)\n",
    "library(ggrepel)"
   ]
  },
  {
   "cell_type": "code",
   "execution_count": null,
   "id": "007ed702",
   "metadata": {
    "vscode": {
     "languageId": "r"
    }
   },
   "outputs": [],
   "source": [
    "setwd(\"/home/wuqinhua/Project/PHASE_1r/AttnMoE_test/result/COVID\")"
   ]
  },
  {
   "cell_type": "markdown",
   "id": "ac011ace",
   "metadata": {},
   "source": [
    "## 1. Attribution score top20 gene"
   ]
  },
  {
   "cell_type": "code",
   "execution_count": null,
   "id": "34b52e26",
   "metadata": {
    "vscode": {
     "languageId": "r"
    }
   },
   "outputs": [],
   "source": [
    "covid_H = read.table('./ensemble_gene_attributions_H.csv', header = TRUE,  sep = ',',  stringsAsFactors = FALSE)\n",
    "covid_H <- covid_H[order(covid_H$mean_attribution, decreasing = TRUE),]\n",
    "H_top20 <- covid_H[1:20, ] # nolint\n",
    "colors <- colorRampPalette(c(\"#B3EE3A\",\"#006400\"))(20)#\n",
    "p1 = ggplot(H_top20, mapping = aes(x = reorder(gene,mean_attribution), y = mean_attribution)) +\n",
    "  geom_bar(stat = 'identity',fill=colors,width=0.78,position =position_dodge(0.7)) + # nolint\n",
    "  labs(x= \" \",y=\"Covid19_H Attribution Score\", fill = \"gene\",size=8,family = \"sans\", face = \"bold.italic\") +\n",
    "  coord_flip()+ # nolint\n",
    "  # geom_text(aes(label = sprintf(\"%.3f\",mean_attribution)),size =3,hjust = ifelse(H_top20$mean_attribution < 0,0,1))+\n",
    "  scale_fill_manual(name = \"Gene\",values = colors) +\n",
    "  theme_classic() +\n",
    "  theme(axis.text = element_text(family = \"sans\",size = 11, face = \"bold.italic\"))\n",
    "#ggsave('./plot/top20_H.png',p1,width =6,height=8)\n",
    "\n",
    "covid_M = read.table('./ensemble_gene_attributions_M.csv', header = TRUE,  sep = ',',  stringsAsFactors = FALSE)\n",
    "covid_M <- covid_M[order(covid_M$mean_attribution, decreasing = TRUE),]\n",
    "M_top20 <- covid_M[1:20, ]\n",
    "colors <- colorRampPalette(c(\"#87CEFA\",\"#1C86EE\"))(20)#\n",
    "p2 <- ggplot(M_top20, mapping = aes(x = reorder(gene,mean_attribution), y = mean_attribution)) +\n",
    "  geom_bar(stat = 'identity',fill=colors,width=0.78,position =position_dodge(0.7)) +\n",
    "  labs(x= \" \",y=\"Covid19_M Attribution Score\", fill = \"gene\",size=8,family = \"sans\", face = \"bold.italic\") +\n",
    "  coord_flip()+\n",
    "  # geom_text(aes(label = sprintf(\"%.3f\",mean_attribution)),size =3,hjust = ifelse(M_top20$mean_attribution < 0,0,1))+\n",
    "  scale_fill_manual(name = \"Gene\",values = colors) +\n",
    "  theme_classic() +\n",
    "  theme(axis.text = element_text(family = \"sans\",size = 11, face = \"bold.italic\")) # nolint: line_length_linter.\n",
    "#ggsave('./plot/top20_M.png',p2,width =6,height=8)\n",
    "\n",
    "covid_S = read.table('./ensemble_gene_attributions_S.csv', header = TRUE,  sep = ',',  stringsAsFactors = FALSE)\n",
    "\n",
    "covid_S <- covid_S[order(covid_S$mean_attribution, decreasing = TRUE),]\n",
    "S_top20 <- covid_S[1:20, ]\n",
    "colors <- colorRampPalette(c(\"#FFD700\",\"#EE7942\"))(20)#\n",
    "p3 <- ggplot(S_top20, mapping = aes(x = reorder(gene,mean_attribution), y = mean_attribution)) +\n",
    "  geom_bar(stat = 'identity',fill=colors,width=0.78,position =position_dodge(0.7)) +\n",
    "  labs(x= \" \",y=\"Covid19_S Attribution Score\", fill = \"gene\",size=8,family = \"sans\", face = \"bold.italic\") +\n",
    "  coord_flip()+\n",
    "  # geom_text(aes(label = sprintf(\"%.3f\",mean_attribution)),size =3,hjust = ifelse(S_top20$mean_attribution < 0,0,1))+ # nolint: commas_linter.\n",
    "  scale_fill_manual(name = \"Gene\",values = colors) +\n",
    "  theme_classic() +\n",
    "  theme(axis.text = element_text(family = \"sans\",size = 11, face = \"bold.italic\")) # nolint\n",
    "#ggsave('./plot/top20_S.png',p3,width =6,height=8)\n",
    "\n",
    "p = p1+p2+p3\n",
    "ggsave('./Analysis/Figure/Attr_plot/top20_all_COVID.pdf',p,width =18,height=8)"
   ]
  },
  {
   "cell_type": "code",
   "execution_count": null,
   "id": "40b731b2",
   "metadata": {
    "vscode": {
     "languageId": "r"
    }
   },
   "outputs": [],
   "source": [
    "covid_H = read.table('./ensemble_gene_attributions_H.csv', header = TRUE, sep = ',', stringsAsFactors = FALSE)\n",
    "covid_H$consistency <- covid_H$mean_attribution / (covid_H$std_attribution + 1e-8)\n",
    "\n",
    "covid_M = read.table('./ensemble_gene_attributions_M.csv', header = TRUE, sep = ',', stringsAsFactors = FALSE)\n",
    "covid_M$consistency <- covid_M$mean_attribution / (covid_M$std_attribution + 1e-8)\n",
    "\n",
    "covid_S = read.table('./ensemble_gene_attributions_S.csv', header = TRUE, sep = ',', stringsAsFactors = FALSE)\n",
    "covid_S$consistency <- covid_S$mean_attribution / (covid_S$std_attribution + 1e-8)\n",
    "\n",
    "H_top20 <- covid_H[order(covid_H$mean_attribution, decreasing = TRUE),][1:20, ]\n",
    "M_top20 <- covid_M[order(covid_M$mean_attribution, decreasing = TRUE),][1:20, ]\n",
    "S_top20 <- covid_S[order(covid_S$mean_attribution, decreasing = TRUE),][1:20, ]\n",
    "\n",
    "\n",
    "bubble_H <- ggplot(H_top20, aes(x = consistency, y = mean_attribution)) +\n",
    "  geom_point(aes(size = abs(mean_attribution), color = consistency), alpha = 0.8) +\n",
    "  geom_text_repel(aes(label = gene), \n",
    "                  size = 2.8, \n",
    "                  color = \"black\",\n",
    "                  box.padding = 0.5,\n",
    "                  point.padding = 0.3,\n",
    "                  segment.color = \"grey50\",\n",
    "                  segment.size = 0.3,\n",
    "                  max.overlaps = Inf) +\n",
    "  labs(x = \"Consistency (Mean/Std)\", \n",
    "       y = \"Mean Attribution Score\", \n",
    "       title = \"Covid19_H: Top20 Genes\",\n",
    "       size = \"Attribution\\nMagnitude\",\n",
    "       color = \"Consistency\") +\n",
    "  theme_classic() +\n",
    "  theme(plot.title = element_text(hjust = 0.5, face = \"bold\", size = 12),\n",
    "        axis.text = element_text(family = \"sans\", size = 9),\n",
    "        axis.title = element_text(family = \"sans\", size = 10, face = \"bold\"),\n",
    "        legend.position = \"bottom\",\n",
    "        legend.box = \"horizontal\",\n",
    "        legend.key.size = unit(0.4, \"cm\"),\n",
    "        legend.text = element_text(size = 8),\n",
    "        legend.title = element_text(size = 9)) +\n",
    "  scale_color_gradient(low = \"#B3EE3A\", high = \"#006400\", name = \"Consistency\") +\n",
    "  scale_size_continuous(range = c(4, 12), name = \"Attribution\\nMagnitude\") +\n",
    "  guides(color = guide_colorbar(title.position = \"top\", title.hjust = 0.5),\n",
    "         size = guide_legend(title.position = \"top\", title.hjust = 0.5))\n",
    "\n",
    "bubble_M <- ggplot(M_top20, aes(x = consistency, y = mean_attribution)) +\n",
    "  geom_point(aes(size = abs(mean_attribution), color = consistency), alpha = 0.8) +\n",
    "  geom_text_repel(aes(label = gene), \n",
    "                  size = 2.8, \n",
    "                  color = \"black\",\n",
    "                  box.padding = 0.5,\n",
    "                  point.padding = 0.3,\n",
    "                  segment.color = \"grey50\",\n",
    "                  segment.size = 0.3,\n",
    "                  max.overlaps = Inf) +\n",
    "  labs(x = \"Consistency (Mean/Std)\", \n",
    "       y = \"Mean Attribution Score\", \n",
    "       title = \"Covid19_M: Top20 Genes\",\n",
    "       size = \"Attribution\\nMagnitude\",\n",
    "       color = \"Consistency\") +\n",
    "  theme_classic() +\n",
    "  theme(plot.title = element_text(hjust = 0.5, face = \"bold\", size = 12),\n",
    "        axis.text = element_text(family = \"sans\", size = 9),\n",
    "        axis.title = element_text(family = \"sans\", size = 10, face = \"bold\"),\n",
    "        legend.position = \"bottom\",\n",
    "        legend.box = \"horizontal\",\n",
    "        legend.key.size = unit(0.4, \"cm\"),\n",
    "        legend.text = element_text(size = 8),\n",
    "        legend.title = element_text(size = 9)) +\n",
    "  scale_color_gradient(low = \"#87CEFA\", high = \"#1C86EE\", name = \"Consistency\") +\n",
    "  scale_size_continuous(range = c(4, 12), name = \"Attribution\\nMagnitude\") +\n",
    "  guides(color = guide_colorbar(title.position = \"top\", title.hjust = 0.5),\n",
    "         size = guide_legend(title.position = \"top\", title.hjust = 0.5))\n",
    "\n",
    "bubble_S <- ggplot(S_top20, aes(x = consistency, y = mean_attribution)) +\n",
    "  geom_point(aes(size = abs(mean_attribution), color = consistency), alpha = 0.8) +\n",
    "  geom_text_repel(aes(label = gene), \n",
    "                  size = 2.8, \n",
    "                  color = \"black\",\n",
    "                  box.padding = 0.5,\n",
    "                  point.padding = 0.3,\n",
    "                  segment.color = \"grey50\",\n",
    "                  segment.size = 0.3,\n",
    "                  max.overlaps = Inf) +\n",
    "  labs(x = \"Consistency (Mean/Std)\", \n",
    "       y = \"Mean Attribution Score\", \n",
    "       title = \"Covid19_S: Top20 Genes\",\n",
    "       size = \"Attribution\\nMagnitude\",\n",
    "       color = \"Consistency\") +\n",
    "  theme_classic() +\n",
    "  theme(plot.title = element_text(hjust = 0.5, face = \"bold\", size = 12),\n",
    "        axis.text = element_text(family = \"sans\", size = 9),\n",
    "        axis.title = element_text(family = \"sans\", size = 10, face = \"bold\"),\n",
    "        legend.position = \"bottom\",\n",
    "        legend.box = \"horizontal\",\n",
    "        legend.key.size = unit(0.4, \"cm\"),\n",
    "        legend.text = element_text(size = 8),\n",
    "        legend.title = element_text(size = 9)) +\n",
    "  scale_color_gradient(low = \"#FFD700\", high = \"#EE7942\", name = \"Consistency\") +\n",
    "  scale_size_continuous(range = c(4, 12), name = \"Attribution\\nMagnitude\") +\n",
    "  guides(color = guide_colorbar(title.position = \"top\", title.hjust = 0.5),\n",
    "         size = guide_legend(title.position = \"top\", title.hjust = 0.5))\n",
    "\n",
    "bubble_combined <- bubble_H + bubble_M + bubble_S\n",
    "\n",
    "ggsave('./Analysis/Figure/Attr_plot//bubble_plot_optimized_COVID.pdf', \n",
    "       bubble_combined, \n",
    "       width = 15, \n",
    "       height = 8,\n",
    "       device = \"pdf\")\n",
    "\n"
   ]
  },
  {
   "cell_type": "markdown",
   "id": "34c9e3fa",
   "metadata": {},
   "source": [
    "## 2. venn plot of H-M-S"
   ]
  },
  {
   "cell_type": "code",
   "execution_count": null,
   "id": "fc9e4567",
   "metadata": {
    "vscode": {
     "languageId": "r"
    }
   },
   "outputs": [],
   "source": [
    "covid_H = read.table('./ensemble_gene_attributions_H.csv', header = TRUE,  sep = ',',  stringsAsFactors = FALSE)\n",
    "covid_H <- covid_H[order(covid_H$mean_attribution, decreasing = TRUE),]\n",
    "H_genes <- covid_H[1:20, 1]\n",
    "covid_M = read.table('./ensemble_gene_attributions_M.csv', header = TRUE,  sep = ',',  stringsAsFactors = FALSE)\n",
    "covid_M <- covid_M[order(covid_M$mean_attribution, decreasing = TRUE),]\n",
    "M_genes <- covid_M[1:20, 1]\n",
    "covid_S = read.table('./ensemble_gene_attributions_S.csv', header = TRUE,  sep = ',',  stringsAsFactors = FALSE)\n",
    "covid_S <- covid_S[order(covid_S$mean_attribution, decreasing = TRUE),]\n",
    "S_genes <- covid_S[1:20, 1]\n",
    "dat = list(H_Top20_genes=H_genes, M_Top20_genes=M_genes, S_Top20_genes=S_genes)\n",
    "p1 <- ggvenn(dat,show_percentage = F,stroke_color = \"white\",stroke_size = 1.5,\n",
    "             fill_color = c(\"#B4EEB4\", \"#BFEFFF\", \"#FFCC66\"),\n",
    "             set_name_size = 5,text_size=5)\n",
    "p1\n",
    "ggsave(\"./Analysis/Figure/ggvenn_top20.pdf\", p1, width=5, height=5)\n",
    "\n",
    "unique_H_genes <- setdiff(H_genes, c(M_genes, S_genes))\n",
    "unique_M_genes <- setdiff(M_genes, c(H_genes, S_genes))\n",
    "unique_S_genes <- setdiff(S_genes, c(H_genes, M_genes))\n",
    "\n",
    "max_length <- max(length(unique_H_genes), length(unique_M_genes), length(unique_S_genes))\n",
    "unique_H_genes <- c(unique_H_genes, rep(NA, max_length - length(unique_H_genes)))\n",
    "unique_M_genes <- c(unique_M_genes, rep(NA, max_length - length(unique_M_genes)))\n",
    "unique_S_genes <- c(unique_S_genes, rep(NA, max_length - length(unique_S_genes)))\n",
    "\n",
    "gene_unique <- data.frame(H=unique_H_genes, M=unique_M_genes, S=unique_S_genes)\n",
    "write.csv(gene_unique, file = \"./Analysis/Figure/Attr_plot/unique_Topgenes_venn.csv\", row.names = FALSE)\n"
   ]
  },
  {
   "cell_type": "markdown",
   "id": "0a908d27",
   "metadata": {},
   "source": [
    "## 3. Heatmap of top20 gene attribution score"
   ]
  },
  {
   "cell_type": "code",
   "execution_count": null,
   "id": "e7ecacf5",
   "metadata": {
    "vscode": {
     "languageId": "r"
    }
   },
   "outputs": [],
   "source": [
    "covid_H = read.table('./ensemble_gene_attributions_H.csv', header = TRUE,  sep = ',',  stringsAsFactors = FALSE)\n",
    "covid_H <- covid_H[order(covid_H$mean_attribution, decreasing = TRUE),]\n",
    "H_genes <- covid_H[1:20, ]\n",
    "covid_M = read.table('./ensemble_gene_attributions_M.csv', header = TRUE,  sep = ',',  stringsAsFactors = FALSE)\n",
    "covid_M <- covid_M[order(covid_M$mean_attribution, decreasing = TRUE),]\n",
    "M_genes <- covid_M[1:20, ]\n",
    "covid_S = read.table('./ensemble_gene_attributions_S.csv', header = TRUE,  sep = ',',  stringsAsFactors = FALSE)\n",
    "covid_S <- covid_S[order(covid_S$mean_attribution, decreasing = TRUE),]\n",
    "S_genes <- covid_S[1:20, ]\n",
    "combined_genes <- union(union(H_genes$gene, M_genes$gene), S_genes$gene)\n",
    "unique_genes <- unique(combined_genes)\n",
    "\n",
    "data = read.csv('./sample_gene_attribution_mean.csv',row.names = 1)\n",
    "selected_columns <- names(data) %in% unique_genes\n",
    "all_top20 = data[, selected_columns, drop = FALSE]\n",
    "all_top20 = as.matrix(all_top20)\n",
    "all_top20 <- apply(all_top20, 2, function(x) (x - min(x)) / (max(x) - min(x)))\n",
    "all_top20\n",
    "\n",
    "condition = read.csv('/data/wuqinhua/phase/covid19/COVID19_sample_condition_560.csv')\n",
    "rownames(condition) <- gsub(\"\\\\.\", \"_\", rownames(condition))\n",
    "dict1 <- setNames(condition$group, condition$sample_id)\n",
    "dict2 <- setNames(condition$Source, condition$sample_id)\n",
    "\n",
    "group = c()\n",
    "dataset = c()\n",
    "for (i in seq_along(row.names(all_top20))){\n",
    "  row_name <- row.names(all_top20)[i]\n",
    "  g <- dict1[row_name]\n",
    "  group[i] <- g\n",
    "  d <- dict2[row_name]\n",
    "  dataset[i] <- d\n",
    "  }\n",
    "df <- data.frame(group, dataset)\n",
    "expData = t(scale(t(all_top20)))\n",
    "expData = pmax(pmin(expData,2),-2)\n",
    "\n",
    "col_fun = colorRamp2(c(-2,-1,0,1,2),rev(brewer.pal(n = 5, name = \"RdBu\")))\n",
    "\n",
    "left_ha = rowAnnotation(Cluster = df$group,Dataset = df$dataset, simple_anno_size = unit(8,'points'),\n",
    "                        col = list(Cluster = c(\"H\" = '#66DD00',\"M\"=\"#77DDFF\",\"S\"=\"#FFBB66\"),\n",
    "                                   Dataset = c(\"Arunachalam_2020\"=\"#377EB8\",\"COMBAT_2022\"=\"darkorchid1\",\"Combes_2021\"=\"#A6D854\",\n",
    "                                               \"Liu_2021\"=\"#66C2A5\",\"Ren_2021\"=\"#0000C6\",\"Schulte-Schrepping_2020\"=\"khaki2\",\n",
    "                                               \"Schuurman_2021\"=\"#4DAF4A\",\"Stephenson_2021\"=\"#999999\",\"Unterman_2022\"=\"#984EA3\",\n",
    "                                               \"Wilk_2021\"=\"#E5C494\",\"Zhao_2021\"=\"#E41A1C\",\"Zhu_2020\"=\"#8DA0CB\")),\n",
    "                        show_annotation_name = F)\n",
    "\n",
    "fh = function(x) fastcluster::hclust(dist(x),\"ave\")\n",
    "\n",
    "pdf('./Analysis/Figure/Attr_plot/heatmap_attr_ave.pdf',width = 6,height = 6)\n",
    "Heatmap(expData,\n",
    "        show_row_names = F,show_column_names = F,\n",
    "        show_row_dend = T,show_column_dend = T,\n",
    "        cluster_rows = fh,cluster_columns = fh,\n",
    "        col = col_fun,\n",
    "        row_title = NULL,column_title = NULL,\n",
    "        heatmap_legend_param = list(title = ''),\n",
    "        top_annotation = NULL,\n",
    "        left_annotation = left_ha,\n",
    "        right_annotation = NULL,\n",
    "        use_raster = TRUE, raster_quality = 2)\n",
    "dev.off()"
   ]
  },
  {
   "cell_type": "markdown",
   "id": "bc5d06e5",
   "metadata": {},
   "source": [
    "## 4. Heatmap of top20 gene expression level"
   ]
  },
  {
   "cell_type": "code",
   "execution_count": null,
   "id": "6cac0d55",
   "metadata": {
    "vscode": {
     "languageId": "r"
    }
   },
   "outputs": [],
   "source": [
    "import os\n",
    "import numpy as np\n",
    "import pandas as pd\n",
    "import scanpy as sc\n",
    "import scipy.sparse\n"
   ]
  },
  {
   "cell_type": "code",
   "execution_count": null,
   "id": "0acaa9ee",
   "metadata": {
    "vscode": {
     "languageId": "r"
    }
   },
   "outputs": [],
   "source": [
    "sce = sc.read_h5ad(\"/data/wuqinhua/phase/covid19/Alldata_hvg.h5ad\")\n",
    "raw_matrix = sce.raw.X.tocsr() if not scipy.sparse.isspmatrix_csr(sce.raw.X) else sce.raw.X\n",
    "raw_df = pd.DataFrame.sparse.from_spmatrix(\n",
    "        raw_matrix,\n",
    "        index=sce.obs_names,      \n",
    "        columns=sce.raw.var_names  \n",
    ")"
   ]
  },
  {
   "cell_type": "code",
   "execution_count": null,
   "id": "504d73f4",
   "metadata": {
    "vscode": {
     "languageId": "r"
    }
   },
   "outputs": [],
   "source": [
    "raw_df['sample_id'] = sce.obs['sample_id'].values\n",
    "sample_gene_expression = raw_df.groupby('sample_id').sum()\n",
    "hvg_genes = sce.var[sce.var['highly_variable']].index.tolist()\n",
    "hvg_df = sample_gene_expression[hvg_genes]\n",
    "hvg_df.to_csv(\"/data/wuqinhua/phase_1r/COVID19/exp_sample_PHASE.csv\")"
   ]
  },
  {
   "cell_type": "code",
   "execution_count": null,
   "id": "3d7a8083",
   "metadata": {
    "vscode": {
     "languageId": "r"
    }
   },
   "outputs": [],
   "source": [
    "library(tidyverse)\n",
    "library(ggplot2)\n",
    "library(ggthemes)\n",
    "library(patchwork)\n",
    "library(ggsci)\n",
    "library(ggvenn)\n",
    "library(ComplexHeatmap)\n",
    "library(RColorBrewer)\n",
    "library(ggbeeswarm)\n",
    "library(tidyr)\n",
    "library(circlize)\n",
    "library(fastcluster)\n",
    "\n",
    "setwd(\"/home/wuqinhua/Project/PHASE_1r/AttnMOE/Code/Result/COVID\")"
   ]
  },
  {
   "cell_type": "code",
   "execution_count": null,
   "id": "3ca141ab",
   "metadata": {
    "vscode": {
     "languageId": "r"
    }
   },
   "outputs": [],
   "source": [
    "covid_H = read.table('./Model_result/ensemble_gene_attributions_H.csv', header = TRUE,  sep = ',',  stringsAsFactors = FALSE)\n",
    "covid_H <- covid_H[order(covid_H$mean_attribution, decreasing = TRUE),]\n",
    "H_genes <- covid_H[1:20, 1]\n",
    "covid_M = read.table('./Model_result/ensemble_gene_attributions_M.csv', header = TRUE,  sep = ',',  stringsAsFactors = FALSE)\n",
    "covid_M <- covid_M[order(covid_M$mean_attribution, decreasing = TRUE),]\n",
    "M_genes <- covid_M[1:20, 1]\n",
    "covid_S = read.table('./Model_result/ensemble_gene_attributions_S.csv', header = TRUE,  sep = ',',  stringsAsFactors = FALSE)\n",
    "covid_S <- covid_S[order(covid_S$mean_attribution, decreasing = TRUE),]\n",
    "S_genes <- covid_S[1:20, 1]"
   ]
  },
  {
   "cell_type": "code",
   "execution_count": null,
   "id": "b22d1854",
   "metadata": {
    "vscode": {
     "languageId": "r"
    }
   },
   "outputs": [],
   "source": [
    "combined_genes <- union(union(H_genes, M_genes), S_genes)\n",
    "unique_genes <- unique(combined_genes)\n",
    "data = read.csv('/data/wuqinhua/phase_1r/COVID19/exp_sample_PHASE.csv',row.names = 1)\n",
    "selected_columns <- names(data) %in% unique_genes\n",
    "all_top20 = data[, selected_columns, drop = FALSE]\n",
    "all_top20 = as.matrix(all_top20)\n",
    "all_top20 <- apply(all_top20, 2, function(x) (x - min(x)) / (max(x) - min(x)))\n",
    "all_top20\n",
    "\n",
    "condition = read.csv('/data/wuqinhua/phase/covid19/COVID19_sample_condition_560.csv')  \n",
    "rownames(condition) <- gsub(\"\\\\.\", \"_\", rownames(condition))\n",
    "dict1 <- setNames(condition$group, condition$sample_id)\n",
    "dict2 <- setNames(condition$Source, condition$sample_id)\n",
    "\n",
    "group = c()\n",
    "dataset = c()\n",
    "for (i in seq_along(row.names(all_top20))){\n",
    "  row_name <- row.names(all_top20)[i]\n",
    "  g <- dict1[row_name]\n",
    "  group[i] <- g\n",
    "  d <- dict2[row_name]\n",
    "  dataset[i] <- d\n",
    "  }\n",
    "df <- data.frame(group, dataset)\n",
    "\n",
    "expData = t(scale(t(all_top20)))\n",
    "expData = pmax(pmin(expData,2),-2)\n",
    "\n",
    "col_fun = colorRamp2(c(-2,-1,0,1,2),rev(brewer.pal(n = 5, name = \"RdBu\")))\n",
    "\n",
    "left_ha = rowAnnotation(Cluster = df$group,Dataset = df$dataset, simple_anno_size = unit(8,'points'),\n",
    "                        col = list(Cluster = c(\"H\" = '#66DD00',\"M\"=\"#77DDFF\",\"S\"=\"#FFBB66\"),\n",
    "                                   Dataset = c(\"Arunachalam_2020\"=\"#377EB8\",\"COMBAT_2022\"=\"darkorchid1\",\"Combes_2021\"=\"#A6D854\",\n",
    "                                               \"Liu_2021\"=\"#66C2A5\",\"Ren_2021\"=\"#0000C6\",\"Schulte-Schrepping_2020\"=\"khaki2\",\n",
    "                                               \"Schuurman_2021\"=\"#4DAF4A\",\"Stephenson_2021\"=\"#999999\",\"Unterman_2022\"=\"#984EA3\",\n",
    "                                               \"Wilk_2021\"=\"#E5C494\",\"Zhao_2021\"=\"#E41A1C\",\"Zhu_2020\"=\"#8DA0CB\")),\n",
    "                        show_annotation_name = F)\n",
    "\n",
    "fh = function(x) fastcluster::hclust(dist(x),\"ave\")\n",
    "\n",
    "pdf('./Analysis/Figure/Attr_plot/heatmap_exp_ave.pdf',width = 6,height = 6)\n",
    "Heatmap(expData,\n",
    "        show_row_names = F,show_column_names = F,\n",
    "        show_row_dend = T,show_column_dend = T,\n",
    "        cluster_rows = fh,cluster_columns = fh,\n",
    "        col = col_fun,\n",
    "        row_title = NULL,column_title = NULL,\n",
    "        heatmap_legend_param = list(title = ''),\n",
    "        top_annotation = NULL,\n",
    "        left_annotation = left_ha,\n",
    "        right_annotation = NULL,\n",
    "        use_raster = TRUE, raster_quality = 2)\n",
    "dev.off()"
   ]
  },
  {
   "cell_type": "markdown",
   "id": "6afaedc9",
   "metadata": {},
   "source": []
  }
 ],
 "metadata": {
  "kernelspec": {
   "display_name": "R",
   "language": "R",
   "name": "ir"
  },
  "language_info": {
   "codemirror_mode": "r",
   "file_extension": ".r",
   "mimetype": "text/x-r-source",
   "name": "R",
   "pygments_lexer": "r",
   "version": "4.4.0"
  }
 },
 "nbformat": 4,
 "nbformat_minor": 5
}
