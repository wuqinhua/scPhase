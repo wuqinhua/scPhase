{
 "cells": [
  {
   "cell_type": "markdown",
   "metadata": {},
   "source": [
    "## 1. Calculate the gene expression score"
   ]
  },
  {
   "cell_type": "code",
   "execution_count": null,
   "metadata": {
    "vscode": {
     "languageId": "r"
    }
   },
   "outputs": [],
   "source": [
    "import os,gc\n",
    "import scanpy as sc\n",
    "import pandas as pd\n",
    "import anndata as ad\n",
    "import numpy as np\n",
    "\n",
    "os.chdir(\"/home/wuqinhua/Project/PHASE_1r/AttnMoE_test/result/Age\")"
   ]
  },
  {
   "cell_type": "code",
   "execution_count": null,
   "metadata": {
    "vscode": {
     "languageId": "r"
    }
   },
   "outputs": [],
   "source": [
    "adata = sc.read('/data/wuqinhua/phase/age/all_pbmc_anno_s.h5ad')\n",
    "print(\"read_over\")\n",
    "\n",
    "age_gene = pd.read_csv(\"./ensemble_gene_attributions_regression.csv\") \n",
    "top_200 = age_gene.sort_values(by='mean_attribution', ascending=False).head(200)\n",
    "top_200 = top_200['gene'].tolist()\n",
    "\n",
    "bottom_200 = age_gene.sort_values(by='mean_attribution', ascending=True).head(200)\n",
    "bottom_200 = bottom_200['gene'].tolist()\n",
    "\n",
    "print(\"top100: \",top_200)\n",
    "print(\"boottom100: \", bottom_200)\n",
    "print(\"gene_over\")\n",
    "\n",
    "\n",
    "sc.tl.score_genes(adata, top_200, ctrl_size=200, gene_pool=None, n_bins=25, score_name='gene_ex_score', random_state=0, copy=False, use_raw=None)\n",
    "adata.obs.to_csv('./Analysis/Figure/gene_ex_scores_top20.csv')\n",
    "sc.tl.score_genes(adata, bottom_200, ctrl_size=200, gene_pool=None, n_bins=25, score_name='gene_ex_score', random_state=0, copy=False, use_raw=None)\n",
    "adata.obs.to_csv('./Analysis/Figure/gene_ex_scores_bottom20.csv')\n",
    "\n",
    "print(\"over\")"
   ]
  },
  {
   "cell_type": "markdown",
   "metadata": {},
   "source": [
    "## 2. Correlation scatter"
   ]
  },
  {
   "cell_type": "code",
   "execution_count": null,
   "metadata": {
    "vscode": {
     "languageId": "r"
    }
   },
   "outputs": [],
   "source": [
    "setwd(\"/home/wuqinhua/Project/PHASE_1r/AttnMoE_test/result/Age\")\n",
    "rm(list = ls())\n",
    "gc()\n",
    "\n",
    "library(cowplot) \n",
    "library(ggplot2) \n",
    "library(RColorBrewer) \n",
    "library(dplyr) \n",
    "library(tidyr)\n",
    "library(ggpubr) \n",
    "library(broom)\n",
    "library(tidyverse)\n",
    "library(tibble)\n",
    "library(janitor)\n",
    "library(ggrepel)\n",
    "library(tidyr)\n",
    "library(ggplot2)\n",
    "library(forestploter)\n",
    "library(gridExtra)\n",
    "library(tidyverse)\n",
    "library(dplyr)\n",
    "library(broom)\n",
    "library(ggpubr)\n",
    "library(randomForest)\n",
    "library(mice)\n",
    "library(reshape2)\n",
    "library(gghalves)\n",
    "library(cowplot)\n",
    "library(patchwork)"
   ]
  },
  {
   "cell_type": "code",
   "execution_count": null,
   "metadata": {
    "vscode": {
     "languageId": "r"
    }
   },
   "outputs": [],
   "source": [
    "attnData <- read.csv('./metadata.csv')\n",
    "sampleInfo <- read.csv('/home/wuqinhua/Project/PHASE/Age/Info/sample_info.csv', row.names = 1)\n",
    "\n",
    "nameAll_attn <- unique(attnData$celltype)\n",
    "nameList_attn <- sort(nameAll_attn)\n",
    "\n",
    "sampleFold_attn <- data.frame(id = character(), celltype = character(), fold = numeric())\n",
    "idList_attn <- unique(attnData$Tube_id)\n",
    "\n",
    "for (id in idList_attn) {\n",
    "  attnTmp <- attnData %>% filter(Tube_id == id)\n",
    "  avgScore <- 1 / dim(attnTmp)[1]\n",
    "  foldRes <- attnTmp %>% group_by(celltype) %>% summarise(res = median(log2(attention_weight_mean / avgScore)))\n",
    "  dataTmp <- data.frame(id = rep(id, dim(foldRes)[1]),\n",
    "                       celltype = foldRes$celltype,\n",
    "                       fold = foldRes$res)\n",
    "  dataTmp_s <- dataTmp %>% filter(celltype %in% nameList_attn)\n",
    "  dataTmp_s$fold <- scale(dataTmp_s$fold)\n",
    "  sampleFold_attn <- rbind(sampleFold_attn, dataTmp_s)\n",
    "}\n",
    "\n",
    "sampleFold.Table <- dcast(sampleFold_attn, id ~ celltype)\n",
    "rownames(sampleFold.Table) <- sampleFold.Table$id\n",
    "sampleFold.Table$id <- NULL\n",
    "attn <- sampleFold.Table\n",
    "\n",
    "process_expression_data <- function(file_path) {\n",
    "  exData <- read.csv(file_path, row.names = 1)\n",
    "  nameAll <- unique(exData$celltype)\n",
    "  nameList <- sort(nameAll)\n",
    "  \n",
    "  sampleFold <- data.frame(id = character(), celltype = character(), fold = numeric())\n",
    "  idList <- unique(exData$Tube_id)\n",
    "  \n",
    "  for (id in idList) {\n",
    "    attnTmp <- exData %>% filter(Tube_id == id)\n",
    "    foldRes <- attnTmp %>% group_by(celltype) %>% summarise(res = median(gene_ex_score))\n",
    "    dataTmp <- data.frame(id = rep(id, dim(foldRes)[1]),\n",
    "                         celltype = foldRes$celltype,\n",
    "                         fold = foldRes$res)\n",
    "    dataTmp_s <- dataTmp %>% filter(celltype %in% nameList)\n",
    "    sampleFold <- rbind(sampleFold, dataTmp_s)\n",
    "  }\n",
    "  \n",
    "  ex_sampleFold.Table <- dcast(sampleFold, id ~ celltype)\n",
    "  rownames(ex_sampleFold.Table) <- ex_sampleFold.Table$id\n",
    "  ex_sampleFold.Table$id <- NULL\n",
    "  return(ex_sampleFold.Table)\n",
    "}\n",
    "\n",
    "file_top <- \"./Analysis/Figure/gene_ex_scores_top200.csv\" \n",
    "file_bottom <- \"./Analysis/Figure/gene_ex_scores_bottom200.csv\"\n",
    "\n",
    "ex_top <- process_expression_data(file_top)\n",
    "ex_bottom <- process_expression_data(file_bottom)\n",
    "head(sampleInfo)\n",
    "\n",
    "sampleInfo <- sampleInfo[rownames(attn), ]\n",
    "ex_top <- ex_top[rownames(attn), colnames(attn)]\n",
    "ex_bottom <- ex_bottom[rownames(attn), colnames(attn)]\n",
    "\n",
    "ex_diff <- ex_top - ex_bottom\n"
   ]
  },
  {
   "cell_type": "code",
   "execution_count": null,
   "metadata": {
    "vscode": {
     "languageId": "r"
    }
   },
   "outputs": [],
   "source": [
    "sampleInfo <- read.csv('/home/wuqinhua/Project/PHASE/Age/Info/sample_info.csv', row.names = 1)\n",
    "custom_colors <- c(\"A\" = \"#FFCCCC\", \"B\" = \"#999933\", \"C\" = \"#B0E57C\", \"D\" = \"#99CCFF\", \"E\" = \"#D2B5E1\")\n",
    "\n",
    "attn_long <- attn %>%\n",
    "  tibble::rownames_to_column(\"sample\") %>%\n",
    "  pivot_longer(cols = -sample, names_to = \"cell_type\", values_to = \"attn_value\")\n",
    "\n",
    "ex_diff_long <- ex_diff %>%\n",
    "  tibble::rownames_to_column(\"sample\") %>%\n",
    "  pivot_longer(cols = -sample, names_to = \"cell_type\", values_to = \"ex_diff_value\")\n",
    "\n",
    "plot_data_long <- attn_long %>%\n",
    "  left_join(ex_diff_long, by = c(\"sample\", \"cell_type\")) %>%\n",
    "  left_join(sampleInfo %>% select(Tube_id, Age_group), by = c(\"sample\" = \"Tube_id\")) %>%\n",
    "  mutate(Age_group = factor(Age_group, levels = names(custom_colors))) %>%\n",
    "  na.omit()\n",
    "\n",
    "annotation_data <- plot_data_long %>%\n",
    "  group_by(cell_type) %>%\n",
    "  summarise(\n",
    "    cor_test_res = list(cor.test(attn_value, ex_diff_value, method = \"pearson\")),\n",
    "    pcc_value = cor_test_res[[1]]$estimate,\n",
    "    p_value = cor_test_res[[1]]$p.value\n",
    "  ) %>%\n",
    "  mutate(\n",
    "    significance = case_when(\n",
    "      p_value < 0.001 ~ \"***\",\n",
    "      p_value < 0.01  ~ \"**\",\n",
    "      p_value < 0.05  ~ \"*\",\n",
    "      TRUE ~ \"\"\n",
    "    ),\n",
    "    title_with_sig = paste0(cell_type, \" \", significance),\n",
    "    label_string = paste0(\"PCC = \", round(pcc_value, 3), \n",
    "                          \", \", \n",
    "                          scales::pvalue(p_value, accuracy = 0.001, add_p = TRUE))\n",
    "  )\n",
    "\n",
    "plot_data_final <- plot_data_long %>%\n",
    "  left_join(annotation_data %>% select(cell_type, title_with_sig), by = \"cell_type\")\n",
    "\n",
    "final_plot <- ggplot(plot_data_final, aes(x = attn_value, y = ex_diff_value)) +\n",
    "  \n",
    "  geom_point(aes(color = Age_group), alpha = 0.7, size = 1.5) +\n",
    "  \n",
    "  geom_smooth(\n",
    "    method = \"lm\", se = TRUE,\n",
    "    color = \"#666666\", fill = \"#C9C9C9\",\n",
    "    alpha = 0.25, linewidth = 0.8\n",
    "  ) +\n",
    "\n",
    "  geom_text(\n",
    "    data = annotation_data, \n",
    "    aes(label = label_string), \n",
    "    x = -Inf, y = Inf,     \n",
    "    hjust = -0.1, vjust = 1.5, \n",
    "    size = 3\n",
    "  ) +\n",
    "  \n",
    "  scale_color_manual(values = custom_colors, name = \"Age Group\") +\n",
    "  \n",
    "  facet_wrap(~title_with_sig, scales = \"free\") +\n",
    "  \n",
    "  labs(\n",
    "    title = \"Attention vs. Expression Difference by Cell Type\",\n",
    "    x = \"Standardized Attention Score\",\n",
    "    y = \"Expression Score Difference (Top - Bottom)\"\n",
    "  ) +\n",
    "  \n",
    "  theme_classic(base_size = 12) +\n",
    "  theme(\n",
    "    panel.background = element_rect(fill = \"white\", color = NA),\n",
    "    plot.background  = element_rect(fill = \"white\", color = NA),\n",
    "    strip.background = element_rect(fill = \"#EFEFEF\", color = NA),\n",
    "    strip.text = element_text(size = 10, face = \"bold\", color = \"#333333\"),\n",
    "    axis.text = element_text(size = 9, color = \"#333333\"),\n",
    "    axis.title = element_text(size = 11, face = \"bold\"),\n",
    "    legend.position = \"right\",\n",
    "    plot.title = element_text(hjust = 0.5, size = 16, face = \"bold\", margin = ggplot2::margin(b = 15)),\n",
    "    panel.spacing = unit(1, \"lines\")\n",
    "  )\n",
    "\n",
    "ggsave(\"./Analysis/Figure/Con_plot/correlation_faceted_plot.pdf\",\n",
    "       final_plot, width = 20, height = 16, dpi = 300)\n",
    "       \n",
    "print(final_plot)"
   ]
  }
 ],
 "metadata": {
  "kernelspec": {
   "display_name": "R",
   "language": "R",
   "name": "ir"
  },
  "language_info": {
   "codemirror_mode": "r",
   "file_extension": ".r",
   "mimetype": "text/x-r-source",
   "name": "R",
   "pygments_lexer": "r",
   "version": "4.4.0"
  }
 },
 "nbformat": 4,
 "nbformat_minor": 2
}
