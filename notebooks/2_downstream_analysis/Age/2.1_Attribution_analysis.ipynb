{
 "cells": [
  {
   "cell_type": "code",
   "execution_count": null,
   "metadata": {
    "vscode": {
     "languageId": "r"
    }
   },
   "outputs": [],
   "source": [
    "library(tidyverse)\n",
    "library(ggplot2)\n",
    "library(ggthemes)\n",
    "library(patchwork)\n",
    "library(ggsci)\n",
    "library(ggvenn)\n",
    "library(ComplexHeatmap)\n",
    "library(RColorBrewer)\n",
    "library(ggbeeswarm)\n",
    "library(tidyr)\n",
    "library(circlize)\n",
    "library(fastcluster)\n",
    "library(gridExtra)\n",
    "\n",
    "setwd(\"/home/wuqinhua/Project/PHASE_1r/AttnMoE_test/result/Age\")"
   ]
  },
  {
   "cell_type": "markdown",
   "metadata": {},
   "source": [
    "## 1. Attribution score top20 gene"
   ]
  },
  {
   "cell_type": "code",
   "execution_count": null,
   "metadata": {
    "vscode": {
     "languageId": "r"
    }
   },
   "outputs": [],
   "source": [
    "data <- read.table('./ensemble_gene_attributions_regression.csv', header = TRUE, sep = ',', stringsAsFactors = FALSE)\n",
    "data <- data[order(data$mean_attribution, decreasing = TRUE),] \n",
    "top20 <- data[1:20, ]\n",
    "bottom20 = data[(nrow(data)-19):nrow(data), ]\n",
    "\n",
    "tp <- ggplot(top20, mapping = aes(x = reorder(gene, mean_attribution), y = mean_attribution)) +\n",
    "  geom_bar(stat = 'identity', fill = colorRampPalette(c(\"#006400\",\"#B3EE3A\"))(20), width = 0.78, position = position_dodge(0.7)) +\n",
    "  labs(x = \" \", y = 'Attribution score of top20 genes', fill = \"Gene\", size = 8, family = \"sans\", face = \"bold.italic\") +\n",
    "  coord_flip() +\n",
    "  theme_classic() +\n",
    "  theme(axis.text = element_text(family = \"sans\", size = 10, face = \"bold.italic\"))\n",
    "\n",
    "bp <- ggplot(bottom20, mapping = aes(x = reorder(gene, -mean_attribution), y = -mean_attribution)) +  # Flip y-axis\n",
    "  geom_bar(stat = 'identity', fill = colorRampPalette(c(\"#FFD700\",\"#EE7942\"))(20), width = 0.78, position = position_dodge(0.7)) +\n",
    "  labs(x = \" \", y = 'Attribution score of bottom20 genes', fill = \"Gene\", size = 8, family = \"sans\", face = \"bold.italic\") +\n",
    "  coord_flip() +\n",
    "  theme_classic() +\n",
    "  theme(axis.text = element_text(family = \"sans\", size = 10, face = \"bold.italic\"))\n",
    "\n",
    "combined_plot <- grid.arrange(bp, tp, ncol = 2)\n",
    "ggsave(\"./Analysis/Figure/Attr_plot/Attr_top_bottom.pdf\", plot = combined_plot, width = 10, height = 7)\n"
   ]
  }
 ],
 "metadata": {
  "kernelspec": {
   "display_name": "R",
   "language": "R",
   "name": "ir"
  },
  "language_info": {
   "codemirror_mode": "r",
   "file_extension": ".r",
   "mimetype": "text/x-r-source",
   "name": "R",
   "pygments_lexer": "r",
   "version": "4.4.0"
  }
 },
 "nbformat": 4,
 "nbformat_minor": 2
}
