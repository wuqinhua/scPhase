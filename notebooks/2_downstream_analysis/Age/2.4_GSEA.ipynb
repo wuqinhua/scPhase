{
 "cells": [
  {
   "cell_type": "code",
   "execution_count": null,
   "id": "e3ad6fe6",
   "metadata": {},
   "outputs": [],
   "source": [
    "import pandas as pd\n",
    "import numpy as np\n",
    "import gseapy as gp\n",
    "import matplotlib.pyplot as plt\n",
    "import seaborn as sns\n",
    "import matplotlib.colors as mcolors\n",
    "import matplotlib.cm as cm"
   ]
  },
  {
   "cell_type": "code",
   "execution_count": null,
   "id": "25493d7a",
   "metadata": {},
   "outputs": [],
   "source": [
    "import pandas as pd\n",
    "def _df_append(self, other, ignore_index=False, verify_integrity=False, sort=False):\n",
    "    return pd.concat([self, other], ignore_index=ignore_index, sort=sort, axis=0)\n",
    "pd.DataFrame.append = _df_append"
   ]
  },
  {
   "cell_type": "code",
   "execution_count": null,
   "id": "9d08e832",
   "metadata": {},
   "outputs": [],
   "source": [
    "gene_df_H = pd.read_csv(\"/home/wuqinhua/Project/PHASE_1r/AttnMoE_test/result/Age/ensemble_gene_attributions_regression.csv\")\n",
    "top_genes_H = gene_df_H.sort_values('mean_attribution', ascending=False)['gene'].head(100).tolist()\n",
    "enr_H=gp.enrichr(gene_list=top_genes_H,gene_sets=['GO_Biological_Process_2025'],organism='Human',outdir='/home/wuqinhua/Project/PHASE_1r/AttnMoE_test/result/Age/Analysis/Figure/GSEA_plot',cutoff=1)"
   ]
  },
  {
   "cell_type": "code",
   "execution_count": null,
   "id": "4bf5d0d0",
   "metadata": {},
   "outputs": [],
   "source": [
    "enr_H_results = enr_H.results.copy()\n",
    "significant_results = enr_H_results[enr_H_results['Adjusted P-value'] < 0.05]"
   ]
  },
  {
   "cell_type": "code",
   "execution_count": null,
   "id": "70ab05d9",
   "metadata": {},
   "outputs": [],
   "source": [
    "plt.rcParams[\"font.family\"] = [\"Arial\", \"SimHei\", \"WenQuanYi Micro Hei\", \"Heiti TC\"]\n",
    "plt.rcParams['axes.unicode_minus'] = False\n",
    "sns.set_style(\"ticks\")\n",
    "\n",
    "significant_results = significant_results.copy()\n",
    "significant_results['-log10(Adj_Pval)'] = -np.log10(significant_results['Adjusted P-value'])\n",
    "\n",
    "significant_results_sorted = significant_results.sort_values('-log10(Adj_Pval)', ascending=True)\n",
    "\n",
    "cmap = plt.cm.Reds\n",
    "max_val = significant_results_sorted['-log10(Adj_Pval)'].max()\n",
    "norm = mcolors.Normalize(vmin=0, vmax=max_val)\n",
    "colors = cmap(norm(significant_results_sorted['-log10(Adj_Pval)'].values))\n",
    "\n",
    "fig, ax = plt.subplots(figsize=(7, 8))\n",
    "\n",
    "bars = ax.barh(range(len(significant_results_sorted)), \n",
    "               significant_results_sorted['-log10(Adj_Pval)'], \n",
    "               color=colors,\n",
    "               alpha=0.9, \n",
    "               height=0.45,\n",
    "               edgecolor='grey',\n",
    "               linewidth=0.7)\n",
    "\n",
    "labels_with_db = []\n",
    "for _, row in significant_results_sorted.iterrows():\n",
    "    db_prefix = ''\n",
    "    if 'GO_Biological' in row['Gene_set']: db_prefix = 'GO'\n",
    "    elif 'KEGG' in row['Gene_set']: db_prefix = 'KEGG'\n",
    "    elif 'Reactome' in row['Gene_set']: db_prefix = 'Reactome'\n",
    "    term = row['Term']\n",
    "    full_label = f\"{db_prefix}: {term}\" if db_prefix else term\n",
    "    if len(full_label) > 50:\n",
    "        words = full_label.split()\n",
    "        if len(words) > 1:\n",
    "            mid = len(words) // 2\n",
    "            formatted_label = f\"{' '.join(words[:mid])}\\n{' '.join(words[mid:])}\"\n",
    "        else:\n",
    "            mid_point = len(full_label) // 2\n",
    "            formatted_label = f\"{full_label[:mid_point]}\\n{full_label[mid_point:]}\"\n",
    "    else:\n",
    "        formatted_label = full_label\n",
    "    labels_with_db.append(formatted_label)\n",
    "\n",
    "ax.set_yticks(range(len(significant_results_sorted)))\n",
    "ax.set_yticklabels(labels_with_db, fontsize=11)\n",
    "\n",
    "ax.set_xlabel('-log10(Adjusted P-value)', fontsize=12, fontweight='bold', labelpad=15)\n",
    "ax.set_title(f'GSEA Enrichment Analysis Results\\n({len(significant_results)} Significant Pathways)', \n",
    "             fontsize=14, fontweight='bold', pad=20)\n",
    "\n",
    "ax.grid(False)\n",
    "\n",
    "threshold = -np.log10(0.05)\n",
    "ax.axvline(x=threshold, color='dimgrey', linestyle='--', alpha=0.8, linewidth=1.5)\n",
    "ax.text(threshold + 0.1, ax.get_ylim()[1], 'P = 0.05', color='dimgrey', \n",
    "        ha='left', va='center', fontsize=11)\n",
    "\n",
    "cax = fig.add_axes([0.92, 0.15, 0.03, 0.7])\n",
    "cbar = plt.colorbar(cm.ScalarMappable(norm=norm, cmap=cmap), cax=cax)\n",
    "cbar.set_label('-log10(Adj P-value)', rotation=270, labelpad=25, \n",
    "               fontsize=12, fontweight='bold')\n",
    "cbar.ax.tick_params(labelsize=11)\n",
    "sns.despine()\n",
    "plt.subplots_adjust(left=0.4, right=0.88)\n",
    "\n",
    "\n",
    "plt.savefig('/home/wuqinhua/Project/PHASE_1r/AttnMoE_test/result/Age/Analysis/Figure/GSEA_plot/GSEA_Enrichment_Plot_Optimized.pdf', dpi=300, bbox_inches='tight', facecolor='white')\n",
    "plt.show()"
   ]
  }
 ],
 "metadata": {
  "kernelspec": {
   "display_name": "phase",
   "language": "python",
   "name": "python3"
  },
  "language_info": {
   "codemirror_mode": {
    "name": "ipython",
    "version": 3
   },
   "file_extension": ".py",
   "mimetype": "text/x-python",
   "name": "python",
   "nbconvert_exporter": "python",
   "pygments_lexer": "ipython3",
   "version": "3.10.14"
  }
 },
 "nbformat": 4,
 "nbformat_minor": 5
}
