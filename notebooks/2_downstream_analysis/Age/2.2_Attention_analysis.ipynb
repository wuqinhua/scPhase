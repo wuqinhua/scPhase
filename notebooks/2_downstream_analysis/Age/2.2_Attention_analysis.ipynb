{
 "cells": [
  {
   "cell_type": "code",
   "execution_count": null,
   "metadata": {},
   "outputs": [],
   "source": [
    "import os\n",
    "import sys\n",
    "import scipy\n",
    "import numpy as np\n",
    "import pandas as pd\n",
    "import scanpy as sc\n",
    "import seaborn as sns\n",
    "import scipy.io as sio\n",
    "import anndata as ad\n",
    "import matplotlib.pyplot as plt\n",
    "\n",
    "os.chdir(\"/home/wuqinhua/Project/PHASE_1r/AttnMoE_test/result/Age\")"
   ]
  },
  {
   "cell_type": "markdown",
   "metadata": {},
   "source": [
    "# 1. UMAP"
   ]
  },
  {
   "cell_type": "code",
   "execution_count": null,
   "metadata": {},
   "outputs": [],
   "source": [
    "adata = sc.read_h5ad(\"./ensemble_adata_with_attention.h5ad\")"
   ]
  },
  {
   "cell_type": "code",
   "execution_count": null,
   "metadata": {},
   "outputs": [],
   "source": [
    "\n",
    "attnData = adata.obs\n",
    "# attnData.to_csv('metadata.csv')"
   ]
  },
  {
   "cell_type": "code",
   "execution_count": null,
   "metadata": {},
   "outputs": [],
   "source": [
    "sc.settings.verbosity = 1\n",
    "sc.settings.figdir = './Analysis/Figure/Attn_plot'\n",
    "sc.settings.set_figure_params(dpi=100, fontsize=10, dpi_save=400,\n",
    "    facecolor = 'white', figsize=(6,6), format='png')"
   ]
  },
  {
   "cell_type": "code",
   "execution_count": null,
   "metadata": {},
   "outputs": [],
   "source": [
    "idList = attnData['Tube_id'].unique()\n",
    "for id in idList:\n",
    "    attnTmp = attnData[attnData['Tube_id'] == id]\n",
    "    avgScore = 1 / len(attnTmp)\n",
    "    log_attn = np.log2(attnTmp['attention_weight_mean'] / avgScore)\n",
    "    attn_scaled = (log_attn - np.mean(log_attn)) / np.std(log_attn)\n",
    "    attn_scaled_clipped = np.clip(attn_scaled, -1, 1)\n",
    "    attnData.loc[attnData['Tube_id'] == id, 'attn_scaled'] = attn_scaled_clipped"
   ]
  },
  {
   "cell_type": "code",
   "execution_count": null,
   "metadata": {},
   "outputs": [],
   "source": [
    "\n",
    "adata.obs[\"attn_scaled\"] = attnData[\"attn_scaled\"].values\n",
    "adata1 = adata[adata.obs['Age_group'] == \"A\"]\n",
    "adata2 = adata[adata.obs['Age_group'] == \"B\"]\n",
    "adata3 = adata[adata.obs['Age_group'] == \"C\"]\n",
    "adata4 = adata[adata.obs['Age_group'] == \"D\"]\n",
    "adata5 = adata[adata.obs['Age_group'] == \"E\"]"
   ]
  },
  {
   "cell_type": "markdown",
   "metadata": {},
   "source": [
    "### 1.1 UMAP of celltype"
   ]
  },
  {
   "cell_type": "code",
   "execution_count": null,
   "metadata": {},
   "outputs": [],
   "source": [
    "leiden_umap = sc.pl.umap(adata, color=['celltype'],\n",
    "    show=False,  palette=sns.color_palette(\"husl\", 24),\n",
    "legend_fontsize=6, frameon=True, title='celltype', save = \"_celltype.pdf\")"
   ]
  },
  {
   "cell_type": "markdown",
   "metadata": {},
   "source": [
    "### 1.2 UMAP of group"
   ]
  },
  {
   "cell_type": "code",
   "execution_count": null,
   "metadata": {},
   "outputs": [],
   "source": [
    "leiden_umap = sc.pl.umap(adata, color='Age', show=False, legend_fontsize=6, color_map ='viridis',\n",
    "                           frameon= True, title='UMAP of Age',save=\"_Age.pdf\") "
   ]
  },
  {
   "cell_type": "markdown",
   "metadata": {},
   "source": [
    "### 1.3 UMAP of age group"
   ]
  },
  {
   "cell_type": "code",
   "execution_count": null,
   "metadata": {},
   "outputs": [],
   "source": [
    "leiden_umap = sc.pl.umap(adata, color='Age_group', show=False, legend_fontsize=6, palette =[\"#FFCCCC\", \"#999933\", \"#B0E57C\",  \"#99CCFF\",  \"#D2B5E1\"],\n",
    "                           frameon= True, title='UMAP of Age_group',save=\"_Age_group.pdf\") "
   ]
  },
  {
   "cell_type": "markdown",
   "metadata": {},
   "source": [
    "### 1.4 UMAP of Attention score"
   ]
  },
  {
   "cell_type": "code",
   "execution_count": null,
   "metadata": {},
   "outputs": [],
   "source": [
    "leiden_umap = sc.pl.umap(adata1, color='attn_scaled', show=False, legend_fontsize=6, color_map ='viridis',\n",
    "                           frameon= True, title='Attention Score of A',save=\"_attn_Age_A.pdf\") \n"
   ]
  },
  {
   "cell_type": "code",
   "execution_count": null,
   "metadata": {},
   "outputs": [],
   "source": [
    "leiden_umap = sc.pl.umap(adata2, color='attn_scaled', show=False, legend_fontsize=6, color_map ='viridis',\n",
    "                           frameon= True, title='Attention Score of B',save=\"_attn_Age_B.pdf\") \n",
    "leiden_umap = sc.pl.umap(adata3, color='attn_scaled', show=False, legend_fontsize=6, color_map ='viridis',\n",
    "                           frameon= True, title='Attention Score of C',save=\"_attn_Age_C.pdf\") \n",
    "leiden_umap = sc.pl.umap(adata4, color='attn_scaled', show=False, legend_fontsize=6, color_map ='viridis',\n",
    "                           frameon= True, title='Attention Score of D',save=\"_attn_Age_D.pdf\") \n",
    "leiden_umap = sc.pl.umap(adata5, color='attn_scaled', show=False, legend_fontsize=6, color_map ='viridis',\n",
    "                           frameon= True, title='Attention Score of E',save=\"_attn_Age_E.pdf\") "
   ]
  },
  {
   "cell_type": "markdown",
   "metadata": {},
   "source": [
    "# 2. Celltype-level"
   ]
  },
  {
   "cell_type": "code",
   "execution_count": null,
   "metadata": {},
   "outputs": [],
   "source": [
    "setwd('/home/wuqinhua/Project/PHASE_1r/AttnMoE_test/result/Age')\n",
    "# rm(list = ls())\n",
    "# gc()\n",
    "\n",
    "library(tidyr)\n",
    "library(ggplot2)\n",
    "library(forestploter)\n",
    "library(gridExtra)\n",
    "library(tidyverse)\n",
    "library(dplyr)\n",
    "library(broom)\n",
    "library(ggpubr)\n",
    "library(randomForest)\n",
    "library(mice)\n",
    "library(reshape2)\n",
    "library(Metrics)\n",
    "library(ComplexHeatmap)\n",
    "library(RColorBrewer)\n",
    "library(fastcluster)\n",
    "library(ggbeeswarm)\n",
    "library(circlize)\n",
    "library(ggrepel)\n",
    "library(ggpubr)"
   ]
  },
  {
   "cell_type": "code",
   "execution_count": null,
   "metadata": {},
   "outputs": [],
   "source": [
    "attnData = read.csv('./metadata.csv')\n",
    "head(attnData)\n",
    "colnames(attnData)\n",
    "\n",
    "nameAll = unique(attnData$celltype)\n",
    "nameAll = sort(nameAll)\n",
    "nameAll\n",
    "\n",
    "nameList = nameAll\n",
    "\n",
    "sampleFold = data.frame(id = character(), celltype = character(), fold = numeric())\n",
    "idList = unique(attnData$Tube_id)\n",
    "for (id in idList) {\n",
    "  attnTmp = attnData %>% filter(Tube_id == id)\n",
    "  avgScore = 1 / dim(attnTmp)[1]\n",
    "  foldRes = attnTmp %>% group_by(celltype) %>% summarise(res = median(log2(attention_weight_mean/avgScore)))\n",
    "  dataTmp = data.frame(id = rep(id,dim(foldRes)[1]),\n",
    "                       celltype = foldRes$celltype,\n",
    "                       fold = foldRes$res)\n",
    "  dataTmp_s = dataTmp %>% filter(celltype %in% nameList)\n",
    "  dataTmp_s$fold = scale(dataTmp_s$fold)\n",
    "  sampleFold = rbind(sampleFold,dataTmp_s)\n",
    "}\n",
    "\n",
    "sampleFold.Table = dcast(sampleFold,id ~ celltype)\n",
    "rownames(sampleFold.Table) = sampleFold.Table$id\n",
    "sampleFold.Table$id = NULL\n",
    "\n",
    "sampleInfo = read.csv('/home/wuqinhua/Project/PHASE/Age/Info/sample_info.csv')\n",
    "rownames(sampleInfo) = sampleInfo$Tube_id\n",
    "sampleInfo = sampleInfo[rownames(sampleFold.Table),]\n",
    "head(sampleFold.Table)"
   ]
  },
  {
   "cell_type": "markdown",
   "metadata": {},
   "source": [
    "### 2.1 Scatter trend plot"
   ]
  },
  {
   "cell_type": "code",
   "execution_count": null,
   "metadata": {},
   "outputs": [],
   "source": [
    "if (!all(rownames(sampleFold.Table) %in% rownames(sampleInfo))) {\n",
    "  stop(\"Not all samples in sampleFold.Table are recorded in sampleInfo.\")\n",
    "}\n",
    "sampleInfo <- sampleInfo[rownames(sampleFold.Table), ]\n",
    "\n",
    "# --- 1. Calculate Score One: Correlation with Age (Phenotype Association) ---\n",
    "phenotype_association_scores <- data.frame(\n",
    "  cell_type = character(),\n",
    "  correlation_rho_with_age = numeric(),\n",
    "  p_value = numeric()\n",
    ")\n",
    "\n",
    "for (cell in colnames(sampleFold.Table)) {\n",
    "  if (sd(sampleFold.Table[[cell]], na.rm = TRUE) == 0) next\n",
    "  test_result <- cor.test(\n",
    "    sampleFold.Table[[cell]], \n",
    "    sampleInfo$Age, \n",
    "    method = \"pearson\"\n",
    "  )\n",
    "\n",
    "  phenotype_association_scores <- rbind(\n",
    "    phenotype_association_scores,\n",
    "    data.frame(\n",
    "      cell_type = cell,\n",
    "      correlation_rho_with_age = test_result$estimate,\n",
    "      p_value = test_result$p.value\n",
    "    )\n",
    "  )\n",
    "}\n",
    "head(phenotype_association_scores)\n",
    "\n",
    "\n",
    "# --- 2. Calculate Score Two: Group Stability/Volatility (Overall Variation) ---\n",
    "overall_variation_scores <- data.frame(\n",
    "  cell_type = character(),\n",
    "  overall_sd = numeric() \n",
    ")\n",
    "\n",
    "for (cell in colnames(sampleFold.Table)) {\n",
    "  sd_val <- sd(sampleFold.Table[[cell]], na.rm = TRUE)\n",
    "\n",
    "  overall_variation_scores <- rbind(\n",
    "    overall_variation_scores,\n",
    "    data.frame(\n",
    "      cell_type = cell,\n",
    "      overall_sd = sd_val\n",
    "    )\n",
    "  )\n",
    "}\n",
    "head(overall_variation_scores)\n",
    "\n",
    "\n",
    "combined_scores_final <- merge(phenotype_association_scores, \n",
    "                               overall_variation_scores, \n",
    "                               by = \"cell_type\")\n",
    "\n",
    "combined_scores_final <- combined_scores_final %>%\n",
    "  mutate(\n",
    "    label = ifelse(p_value < 0.05, cell_type, \"\") \n",
    "  )\n",
    "  \n",
    "head(combined_scores_final)"
   ]
  },
  {
   "cell_type": "code",
   "execution_count": null,
   "metadata": {},
   "outputs": [],
   "source": [
    "rho_threshold <- median(abs(combined_scores_final$correlation_rho_with_age), na.rm = TRUE)\n",
    "sd_threshold <- median(combined_scores_final$overall_sd, na.rm = TRUE)\n",
    "\n",
    "plot_data_final <- combined_scores_final %>%\n",
    "  mutate(\n",
    "    direction = ifelse(correlation_rho_with_age > 0, \"Positive\", \"Negative\"),\n",
    "    \n",
    "    label_text = ifelse(\n",
    "      abs(correlation_rho_with_age) > rho_threshold & overall_sd > sd_threshold, \n",
    "      cell_type, \n",
    "      \"\"\n",
    "    )\n",
    "  )\n",
    "\n",
    "\n",
    "threshold_scatter_plot <- ggplot(plot_data_final, \n",
    "                                 aes(x = abs(correlation_rho_with_age), \n",
    "                                     y = overall_sd, \n",
    "                                     color = direction,\n",
    "                                     label = label_text)) +\n",
    "\n",
    "  geom_vline(xintercept = rho_threshold, linetype = \"dashed\", color = \"gray50\") +\n",
    "  geom_hline(yintercept = sd_threshold, linetype = \"dashed\", color = \"gray50\") +\n",
    "\n",
    "  geom_point(size = 4, alpha = 0.8) +\n",
    "  \n",
    "  geom_text_repel(color = \"black\", size = 4, max.overlaps = Inf, \n",
    "                  box.padding = 0.6, min.segment.length = 0) +\n",
    "  \n",
    "  scale_color_manual(\n",
    "    name = \"Direction of Correlation\",\n",
    "    values = c(\"Positive\" = \"#E64B35\", \"Negative\" = \"#3C5488\")\n",
    "  ) +\n",
    "\n",
    "  annotate(\"text\", x = Inf, y = Inf, label = \"High Correlation & High Variation\\n(Key Targets)\", \n",
    "           hjust = 1.1, vjust = 1.2, color = \"black\", fontface = \"bold\", size = 4) +\n",
    "\n",
    "  theme_bw() +\n",
    "  labs(\n",
    "    title = \"Identifying Key Cell Types by Association and Variation\",\n",
    "    x = \"Strength of Association with Age (Absolute Spearman's rho)\",\n",
    "    y = \"Overall Variation (Standard Deviation)\"\n",
    "  ) +\n",
    "  theme(\n",
    "    plot.title = element_text(hjust = 0.5, face = \"bold\", size = 16),\n",
    "    legend.position = \"bottom\"\n",
    "  )\n",
    "\n",
    "ggsave(\"./Analysis/Figure/Attn_plot/threshold_scatter_plot.pdf\", threshold_scatter_plot, width = 8, height = 6)\n",
    "print(threshold_scatter_plot)"
   ]
  },
  {
   "cell_type": "markdown",
   "metadata": {},
   "source": [
    "### 2.2 R2: Age and Attn"
   ]
  },
  {
   "cell_type": "code",
   "execution_count": null,
   "metadata": {},
   "outputs": [],
   "source": [
    "cell_types_attn <- colnames(sampleFold.Table)\n",
    "combined_data_atten <- data.frame()\n",
    "for (cell in cell_types_attn) {\n",
    "  dataTmp <- data.frame(\n",
    "    atten = sampleFold.Table[[cell]],\n",
    "    group = sampleInfo$Age_group,\n",
    "    age   = sampleInfo$Age,\n",
    "    cell_type = cell\n",
    "  )\n",
    "  dataTmp_s <- na.omit(dataTmp)\n",
    "  combined_data_atten <- rbind(combined_data_atten, dataTmp_s)\n",
    "}\n",
    "\n",
    "custom_colors <- c(\"A\" = \"#FFCCCC\", \"B\" = \"#999933\", \"C\" = \"#B0E57C\", \"D\" = \"#99CCFF\", \"E\" = \"#D2B5E1\")\n",
    "\n",
    "plot_df_attn <- combined_data_atten %>%\n",
    "  dplyr::select(age, atten, group, cell_type) %>%\n",
    "  dplyr::rename(Age = age, Attn = atten, Age_group = group) %>%\n",
    "  dplyr::mutate(Age_group = factor(Age_group, levels = names(custom_colors))) %>%\n",
    "  na.omit()\n",
    "\n",
    "significance_labels <- phenotype_association_scores %>%\n",
    "  mutate(\n",
    "    significance = case_when(\n",
    "      p_value < 0.001 ~ \"***\",\n",
    "      p_value < 0.01 ~ \"**\", \n",
    "      p_value < 0.05 ~ \"*\",\n",
    "      TRUE ~ \"ns\"\n",
    "    ),\n",
    "    title_with_sig = paste0(cell_type, \" \", significance)\n",
    "  ) %>%\n",
    "  select(cell_type, title_with_sig)\n",
    "  \n",
    "plot_df_attn_with_sig <- plot_df_attn %>%\n",
    "  left_join(significance_labels, by = \"cell_type\") %>%\n",
    "  mutate(title_with_sig = ifelse(is.na(title_with_sig), cell_type, title_with_sig))\n",
    "\n",
    "p_facet_attn_with_r2 <- ggplot(plot_df_attn_with_sig, aes(x = Age, y = Attn)) +\n",
    "  \n",
    "  geom_point(aes(color = Age_group), alpha = 0.65, size = 1.3) +\n",
    "\n",
    "  geom_smooth(\n",
    "    method = \"loess\", se = TRUE,\n",
    "    color = \"#666666\", fill = \"#C9C9C9\",\n",
    "    alpha = 0.22, linewidth = 0.8\n",
    "  ) +\n",
    "\n",
    "  ggpubr::stat_cor(\n",
    "    method = \"pearson\",\n",
    "    aes(label = paste(..rr.label.., ..p.label.., sep = \"~`,`~\")), \n",
    "    label.x.npc = \"left\",\n",
    "    label.y.npc = \"top\",\n",
    "    hjust = 0,\n",
    "    size = 3.2\n",
    "  ) +\n",
    "  \n",
    "  scale_color_manual(values = custom_colors, name = \"Age Group\") +\n",
    "\n",
    "  facet_wrap(~title_with_sig, scales = \"free\", labeller = label_value) +\n",
    "  \n",
    "  labs(\n",
    "    title = \"Standardized Attn vs Age by Cell Type (with significance markers)\",\n",
    "    x = \"Age\",\n",
    "    y = \"Standardized Attn\"\n",
    "  ) +\n",
    "\n",
    "  theme_classic(base_size = 10) +\n",
    "  theme(\n",
    "    panel.background = element_rect(fill = \"white\", color = NA),\n",
    "    plot.background  = element_rect(fill = \"white\", color = NA),\n",
    "    panel.grid.major = element_blank(),\n",
    "    panel.grid.minor = element_blank(),\n",
    "    strip.background = element_rect(fill = \"#EFEFEF\", color = NA),\n",
    "    strip.text = element_text(size = 9, face = \"bold\", color = \"#333333\"),\n",
    "    axis.text.x = element_text(size = 8, color = \"#333333\", hjust = 1),\n",
    "    axis.text.y = element_text(size = 8, color = \"#333333\"),\n",
    "    axis.title = element_text(size = 10, face = \"bold\"),\n",
    "    legend.position = \"right\",\n",
    "    legend.title = element_text(size = 9, face = \"bold\"),\n",
    "    legend.text  = element_text(size = 8),\n",
    "    panel.spacing = unit(0.8, \"lines\")\n",
    "  )\n",
    "\n",
    "ggsave(\"./Analysis/Figure/Attn_plot/attn_age_scatter_r2_facet_with_sig.pdf\",\n",
    "       p_facet_attn_with_r2, width = 20, height = 18, dpi = 300)\n",
    "\n",
    "print(p_facet_attn_with_r2)"
   ]
  }
 ],
 "metadata": {
  "kernelspec": {
   "display_name": "phase",
   "language": "python",
   "name": "python3"
  },
  "language_info": {
   "codemirror_mode": {
    "name": "ipython",
    "version": 3
   },
   "file_extension": ".py",
   "mimetype": "text/x-python",
   "name": "python",
   "nbconvert_exporter": "python",
   "pygments_lexer": "ipython3",
   "version": "3.10.14"
  }
 },
 "nbformat": 4,
 "nbformat_minor": 2
}
