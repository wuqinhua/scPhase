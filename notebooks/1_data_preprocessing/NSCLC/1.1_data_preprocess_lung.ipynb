{
 "cells": [
  {
   "cell_type": "code",
   "execution_count": null,
   "id": "cbc3f64a",
   "metadata": {},
   "outputs": [],
   "source": [
    "import scanpy as sc\n",
    "import pandas as pd\n",
    "import anndata as ad\n",
    "import numpy as np\n"
   ]
  },
  {
   "cell_type": "code",
   "execution_count": null,
   "id": "27a099f6",
   "metadata": {},
   "outputs": [],
   "source": [
    "adata = sc.read_h5ad(\"/data/wuqinhua/phase/LungCancerCell/Lung_CancerCell_raw.h5ad\")\n",
    "adata"
   ]
  },
  {
   "cell_type": "code",
   "execution_count": null,
   "id": "3632d17e",
   "metadata": {},
   "outputs": [],
   "source": [
    "adata.obs"
   ]
  },
  {
   "cell_type": "code",
   "execution_count": null,
   "id": "75736c53",
   "metadata": {},
   "outputs": [],
   "source": [
    "adata.var.index = adata.var[\"feature_name\"]"
   ]
  },
  {
   "cell_type": "code",
   "execution_count": null,
   "id": "a3560ef0",
   "metadata": {},
   "outputs": [],
   "source": [
    "adata.obs[\"sample\"].unique()"
   ]
  },
  {
   "cell_type": "code",
   "execution_count": null,
   "id": "55601367",
   "metadata": {},
   "outputs": [],
   "source": [
    "adata.var.index"
   ]
  },
  {
   "cell_type": "code",
   "execution_count": null,
   "id": "f0d59efe",
   "metadata": {},
   "outputs": [],
   "source": [
    "# filter\n",
    "# 1. filter tissue: lung\n",
    "filtered_adata1 = adata[adata.obs[\"tissue\"].isin([\"lung\"])].copy()\n",
    "\n",
    "# 2. filter disease: normal & LUAD & LUSC\n",
    "disease_types = [\"lung adenocarcinoma\", \"normal\", \"squamous cell lung carcinoma\"]\n",
    "filtered_adata2 = filtered_adata1[filtered_adata1.obs[\"disease\"].isin(disease_types)].copy()\n",
    "\n",
    "# 3. filer origin: tumor_primary & normal\n",
    "origin_types = [\"tumor_primary\", \"normal\"]\n",
    "filtered_adata3 = filtered_adata2[filtered_adata2.obs[\"origin\"].isin(origin_types)].copy()\n",
    "\n",
    "\n",
    "filtered_adata3"
   ]
  },
  {
   "cell_type": "code",
   "execution_count": null,
   "id": "d22d9d3e",
   "metadata": {},
   "outputs": [],
   "source": [
    "new_df = filtered_adata3.obs[['sample', 'age', 'ever_smoker','donor_id', 'uicc_stage', 'origin', 'disease', \"tissue\",'dataset']].drop_duplicates(subset='sample', keep='first')\n",
    "new_df.to_csv('/data/wuqinhua/phase/LungCancerCell/sample_info.csv', index=False)"
   ]
  },
  {
   "cell_type": "code",
   "execution_count": null,
   "id": "3f9ef07f",
   "metadata": {},
   "outputs": [],
   "source": [
    "new_df['disease'].value_counts()"
   ]
  },
  {
   "cell_type": "code",
   "execution_count": null,
   "id": "6d44d15c",
   "metadata": {},
   "outputs": [],
   "source": [
    "filtered_adata3.write_h5ad('/data/wuqinhua/phase/LungCancerCell/Lung_CancerCell.h5ad', compression=\"gzip\")"
   ]
  },
  {
   "cell_type": "code",
   "execution_count": null,
   "id": "a9df98e4",
   "metadata": {},
   "outputs": [],
   "source": [
    "adata = sc.read_h5ad(\"/data/wuqinhua/phase/LungCancerCell/Lung_CancerCell.h5ad\")\n",
    "adata"
   ]
  },
  {
   "cell_type": "code",
   "execution_count": null,
   "id": "036209f9",
   "metadata": {},
   "outputs": [],
   "source": [
    "adata.obs = adata.obs.rename(columns={\"sample\": \"sample_id\", \"disease\": \"phenotype\", \"ann_fine\": \"celltype\"})"
   ]
  },
  {
   "cell_type": "code",
   "execution_count": null,
   "id": "f929822b",
   "metadata": {},
   "outputs": [],
   "source": [
    "sc.pp.highly_variable_genes(adata, n_top_genes=5000, flavor=\"cell_ranger\", min_mean=0.0125, max_mean=3, min_disp=0.5, batch_key = 'dataset')\n",
    "adata.raw = adata\n",
    "adata_s = adata[:, adata.var.highly_variable].copy()"
   ]
  },
  {
   "cell_type": "code",
   "execution_count": null,
   "id": "eff6b096",
   "metadata": {},
   "outputs": [],
   "source": [
    "sc.pl.umap(adata_s,color=[\"celltype\"])"
   ]
  },
  {
   "cell_type": "code",
   "execution_count": null,
   "id": "de2d4db0",
   "metadata": {},
   "outputs": [],
   "source": [
    "sc.pl.umap(adata_s,color=[\"phenotype\"])"
   ]
  },
  {
   "cell_type": "code",
   "execution_count": null,
   "id": "03840155",
   "metadata": {},
   "outputs": [],
   "source": [
    "adata_s.var.index.name = None \n",
    "adata_s.write_h5ad(\"/data/wuqinhua/phase/LungCancerCell/Lung_CancerCell.h5ad\", compression=\"gzip\")"
   ]
  }
 ],
 "metadata": {
  "kernelspec": {
   "display_name": "phase",
   "language": "python",
   "name": "python3"
  },
  "language_info": {
   "codemirror_mode": {
    "name": "ipython",
    "version": 3
   },
   "file_extension": ".py",
   "mimetype": "text/x-python",
   "name": "python",
   "nbconvert_exporter": "python",
   "pygments_lexer": "ipython3",
   "version": "3.10.14"
  }
 },
 "nbformat": 4,
 "nbformat_minor": 5
}
