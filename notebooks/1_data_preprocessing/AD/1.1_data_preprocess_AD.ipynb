{
 "cells": [
  {
   "cell_type": "code",
   "execution_count": null,
   "id": "dd2bb954",
   "metadata": {},
   "outputs": [],
   "source": [
    "import scanpy as sc\n",
    "import pandas as pd\n",
    "import anndata as ad\n",
    "import numpy as np"
   ]
  },
  {
   "cell_type": "code",
   "execution_count": null,
   "id": "8664556f",
   "metadata": {},
   "outputs": [],
   "source": [
    "adata = sc.read_h5ad(\"/data/wuqinhua/phase/AD/AD_NatureNeuro_raw.h5ad\")\n",
    "adata"
   ]
  },
  {
   "cell_type": "code",
   "execution_count": null,
   "id": "4b3e7c56",
   "metadata": {},
   "outputs": [],
   "source": [
    "adata.var_names_make_unique()"
   ]
  },
  {
   "cell_type": "code",
   "execution_count": null,
   "id": "00d9cd82",
   "metadata": {},
   "outputs": [],
   "source": [
    "adata.var.index = adata.var[\"feature_name\"]\n",
    "adata.var.index.name = None "
   ]
  },
  {
   "cell_type": "code",
   "execution_count": null,
   "id": "179c9df4",
   "metadata": {},
   "outputs": [],
   "source": [
    "sample_counts = adata.obs.groupby('ADNC')['donor_id'].nunique()\n",
    "sample_counts"
   ]
  },
  {
   "cell_type": "code",
   "execution_count": null,
   "id": "d0baa008",
   "metadata": {},
   "outputs": [],
   "source": [
    "adata.obs[\"ADNC\"] = adata.obs[\"ADNC\"].replace(\"Reference\", \"Not AD\")\n",
    "sample_counts = adata.obs.groupby('ADNC')['donor_id'].nunique()\n",
    "sample_counts"
   ]
  },
  {
   "cell_type": "code",
   "execution_count": null,
   "id": "5373c381",
   "metadata": {},
   "outputs": [],
   "source": [
    "sc.pp.highly_variable_genes(adata, n_top_genes=5000, flavor=\"cell_ranger\", min_mean=0.0125, max_mean=3, min_disp=0.5, batch_key = 'Specimen ID')\n",
    "# adata.raw = adata\n",
    "# adata_s = adata[:, adata.var.highly_variable].copy()\n"
   ]
  },
  {
   "cell_type": "code",
   "execution_count": null,
   "id": "8e30cddc",
   "metadata": {},
   "outputs": [],
   "source": [
    "cat_cols = adata.var.select_dtypes(include=['category']).columns\n",
    "cat_categories = {col: adata.var[col].cat.categories for col in cat_cols}\n",
    "adata.var[cat_cols] = adata.var[cat_cols].astype(str)\n",
    "\n",
    "var_names = adata.var.index.tolist()\n",
    "unique_names = []\n",
    "name_counts = {}\n",
    "for name in var_names:\n",
    "    if name in name_counts:\n",
    "        name_counts[name] += 1\n",
    "        unique_names.append(f\"{name}_{name_counts[name]}\")  \n",
    "    else:\n",
    "        name_counts[name] = 0\n",
    "        unique_names.append(name)\n",
    "adata.var.index = unique_names \n"
   ]
  },
  {
   "cell_type": "code",
   "execution_count": null,
   "id": "2e516fdf",
   "metadata": {},
   "outputs": [],
   "source": [
    "sorted_genes = adata.var.sort_values('dispersions_norm', ascending=False).index\n",
    "top5000_genes = sorted_genes[:5000]\n",
    "adata_s = adata[:, top5000_genes].copy()"
   ]
  },
  {
   "cell_type": "code",
   "execution_count": null,
   "id": "f17f1254",
   "metadata": {},
   "outputs": [],
   "source": [
    "adata_s.obs = adata_s.obs.rename(columns={\"Specimen ID\": \"sample_id\", \"ADNC\": \"phenotype\", \"Subclass\": \"celltype\"})\n",
    "adata_s.obs"
   ]
  },
  {
   "cell_type": "code",
   "execution_count": null,
   "id": "3961526c",
   "metadata": {},
   "outputs": [],
   "source": [
    "new_df = adata_s.obs[['sample_id',\"phenotype\",'donor_id', \"tissue\",]].drop_duplicates(subset='sample_id', keep='first')\n",
    "new_df.to_csv('/data/wuqinhua/phase_1r/AD/sample_info.csv', index=False)"
   ]
  },
  {
   "cell_type": "code",
   "execution_count": null,
   "id": "a4716bcc",
   "metadata": {},
   "outputs": [],
   "source": [
    "sc.pl.umap(adata_s,color=[\"celltype\"])\n",
    "sc.pl.umap(adata_s,color=[\"phenotype\"])"
   ]
  },
  {
   "cell_type": "code",
   "execution_count": null,
   "id": "9a6cfe8f",
   "metadata": {},
   "outputs": [],
   "source": [
    "del adata_s.raw"
   ]
  },
  {
   "cell_type": "code",
   "execution_count": null,
   "id": "f9b6241e",
   "metadata": {},
   "outputs": [],
   "source": [
    "adata_s.write_h5ad(\"/data/wuqinhua/phase/AD/AD_NatureNeuro_ADNC.h5ad\")"
   ]
  }
 ],
 "metadata": {
  "kernelspec": {
   "display_name": "phase",
   "language": "python",
   "name": "python3"
  },
  "language_info": {
   "codemirror_mode": {
    "name": "ipython",
    "version": 3
   },
   "file_extension": ".py",
   "mimetype": "text/x-python",
   "name": "python",
   "nbconvert_exporter": "python",
   "pygments_lexer": "ipython3",
   "version": "3.10.14"
  }
 },
 "nbformat": 4,
 "nbformat_minor": 5
}
